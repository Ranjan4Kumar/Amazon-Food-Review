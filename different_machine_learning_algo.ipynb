{
  "cells": [
    {
      "cell_type": "markdown",
      "metadata": {
        "id": "view-in-github",
        "colab_type": "text"
      },
      "source": [
        "<a href=\"https://colab.research.google.com/github/Ranjan4Kumar/Amazon-Food-Review/blob/main/different_machine_learning_algo.ipynb\" target=\"_parent\"><img src=\"https://colab.research.google.com/assets/colab-badge.svg\" alt=\"Open In Colab\"/></a>"
      ]
    },
    {
      "cell_type": "code",
      "source": [
        "# Donload data set from -> https://drive.google.com/file/d/1VjEjCwoAqEnMSFALlNRNS3e-5zcp3UEQ/view?usp=share_link\n",
        "'''\n",
        "Everyday we come across various products in our lives, on the digital medium we swipe across hundreds of \n",
        "product choices under one category. It will be tedious for the customer to make selection. Here comes \n",
        "'reviews' where customers who have already got that product leave a rating after using them and brief their \n",
        "experience by giving reviews. As we know ratings can be easily sorted and judged whether a product is good or bad. \n",
        "But when it comes to sentence reviews we need to read through every line to make sure the review conveys a positive or\n",
        "negative sense. In the era of artificial intelligence, things like that have got easy with the \n",
        "Natural Langauge Processing(NLP) technology.\n",
        "\n",
        "\n",
        "Objective:\n",
        "Given a review, determine whether the review is positive (Rating of 4 or 5) or negative (rating of 1 or 2).\n",
        "\n",
        "\n",
        "[Q] How to determine if a review is positive or negative?\n",
        "\n",
        "[Ans] We could use the Score/Rating. A rating of 4 or 5 could be cosnidered a positive review. A review of 1 or 2 could be considered negative. A review of 3 is nuetral and ignored. \n",
        "This is an approximate and proxy way of determining the polarity (positivity/negativity) of a review.\n",
        "'''"
      ],
      "metadata": {
        "id": "h5PNSvJKktUe"
      },
      "id": "h5PNSvJKktUe",
      "execution_count": null,
      "outputs": []
    },
    {
      "cell_type": "code",
      "execution_count": 3,
      "id": "f8fdeb8d",
      "metadata": {
        "_cell_guid": "b1076dfc-b9ad-4769-8c92-a6c4dae69d19",
        "_uuid": "8f2839f25d086af736a60e9eeb907d3b93b6e0e5",
        "execution": {
          "iopub.execute_input": "2022-11-24T10:29:37.063089Z",
          "iopub.status.busy": "2022-11-24T10:29:37.062470Z",
          "iopub.status.idle": "2022-11-24T10:29:37.080690Z",
          "shell.execute_reply": "2022-11-24T10:29:37.079454Z"
        },
        "papermill": {
          "duration": 0.02984,
          "end_time": "2022-11-24T10:29:37.082583",
          "exception": false,
          "start_time": "2022-11-24T10:29:37.052743",
          "status": "completed"
        },
        "tags": [],
        "id": "f8fdeb8d"
      },
      "outputs": [],
      "source": [
        "import numpy as np # linear algebra\n",
        "import pandas as pd # data processing, CSV file I/O (e.g. pd.read_csv)\n"
      ]
    },
    {
      "cell_type": "code",
      "source": [
        "from google.colab import drive\n",
        "drive.mount('/content/drive')"
      ],
      "metadata": {
        "colab": {
          "base_uri": "https://localhost:8080/"
        },
        "id": "8rfgJY3I02Ux",
        "outputId": "1d8d0ff8-55f3-4813-b2b0-dd19c95570b2"
      },
      "id": "8rfgJY3I02Ux",
      "execution_count": 1,
      "outputs": [
        {
          "output_type": "stream",
          "name": "stdout",
          "text": [
            "Mounted at /content/drive\n"
          ]
        }
      ]
    },
    {
      "cell_type": "code",
      "execution_count": 4,
      "id": "ea5969f7",
      "metadata": {
        "execution": {
          "iopub.execute_input": "2022-11-24T10:29:37.097896Z",
          "iopub.status.busy": "2022-11-24T10:29:37.096899Z",
          "iopub.status.idle": "2022-11-24T10:29:44.470895Z",
          "shell.execute_reply": "2022-11-24T10:29:44.469611Z"
        },
        "papermill": {
          "duration": 7.384097,
          "end_time": "2022-11-24T10:29:44.473478",
          "exception": false,
          "start_time": "2022-11-24T10:29:37.089381",
          "status": "completed"
        },
        "tags": [],
        "colab": {
          "base_uri": "https://localhost:8080/",
          "height": 739
        },
        "id": "ea5969f7",
        "outputId": "c70d43f6-10e1-4486-d67c-3b5677eb51a7"
      },
      "outputs": [
        {
          "output_type": "execute_result",
          "data": {
            "text/plain": [
              "   Id   ProductId          UserId                      ProfileName  \\\n",
              "0   1  B001E4KFG0  A3SGXH7AUHU8GW                       delmartian   \n",
              "1   2  B00813GRG4  A1D87F6ZCVE5NK                           dll pa   \n",
              "2   3  B000LQOCH0   ABXLMWJIXXAIN  Natalia Corres \"Natalia Corres\"   \n",
              "3   4  B000UA0QIQ  A395BORC6FGVXV                             Karl   \n",
              "4   5  B006K2ZZ7K  A1UQRSCLF8GW1T    Michael D. Bigham \"M. Wassir\"   \n",
              "\n",
              "   HelpfulnessNumerator  HelpfulnessDenominator  Score        Time  \\\n",
              "0                     1                       1      5  1303862400   \n",
              "1                     0                       0      1  1346976000   \n",
              "2                     1                       1      4  1219017600   \n",
              "3                     3                       3      2  1307923200   \n",
              "4                     0                       0      5  1350777600   \n",
              "\n",
              "                 Summary                                               Text  \n",
              "0  Good Quality Dog Food  I have bought several of the Vitality canned d...  \n",
              "1      Not as Advertised  Product arrived labeled as Jumbo Salted Peanut...  \n",
              "2  \"Delight\" says it all  This is a confection that has been around a fe...  \n",
              "3         Cough Medicine  If you are looking for the secret ingredient i...  \n",
              "4            Great taffy  Great taffy at a great price.  There was a wid...  "
            ],
            "text/html": [
              "\n",
              "  <div id=\"df-370ce96e-4584-46cd-bf79-86e88ad8839e\">\n",
              "    <div class=\"colab-df-container\">\n",
              "      <div>\n",
              "<style scoped>\n",
              "    .dataframe tbody tr th:only-of-type {\n",
              "        vertical-align: middle;\n",
              "    }\n",
              "\n",
              "    .dataframe tbody tr th {\n",
              "        vertical-align: top;\n",
              "    }\n",
              "\n",
              "    .dataframe thead th {\n",
              "        text-align: right;\n",
              "    }\n",
              "</style>\n",
              "<table border=\"1\" class=\"dataframe\">\n",
              "  <thead>\n",
              "    <tr style=\"text-align: right;\">\n",
              "      <th></th>\n",
              "      <th>Id</th>\n",
              "      <th>ProductId</th>\n",
              "      <th>UserId</th>\n",
              "      <th>ProfileName</th>\n",
              "      <th>HelpfulnessNumerator</th>\n",
              "      <th>HelpfulnessDenominator</th>\n",
              "      <th>Score</th>\n",
              "      <th>Time</th>\n",
              "      <th>Summary</th>\n",
              "      <th>Text</th>\n",
              "    </tr>\n",
              "  </thead>\n",
              "  <tbody>\n",
              "    <tr>\n",
              "      <th>0</th>\n",
              "      <td>1</td>\n",
              "      <td>B001E4KFG0</td>\n",
              "      <td>A3SGXH7AUHU8GW</td>\n",
              "      <td>delmartian</td>\n",
              "      <td>1</td>\n",
              "      <td>1</td>\n",
              "      <td>5</td>\n",
              "      <td>1303862400</td>\n",
              "      <td>Good Quality Dog Food</td>\n",
              "      <td>I have bought several of the Vitality canned d...</td>\n",
              "    </tr>\n",
              "    <tr>\n",
              "      <th>1</th>\n",
              "      <td>2</td>\n",
              "      <td>B00813GRG4</td>\n",
              "      <td>A1D87F6ZCVE5NK</td>\n",
              "      <td>dll pa</td>\n",
              "      <td>0</td>\n",
              "      <td>0</td>\n",
              "      <td>1</td>\n",
              "      <td>1346976000</td>\n",
              "      <td>Not as Advertised</td>\n",
              "      <td>Product arrived labeled as Jumbo Salted Peanut...</td>\n",
              "    </tr>\n",
              "    <tr>\n",
              "      <th>2</th>\n",
              "      <td>3</td>\n",
              "      <td>B000LQOCH0</td>\n",
              "      <td>ABXLMWJIXXAIN</td>\n",
              "      <td>Natalia Corres \"Natalia Corres\"</td>\n",
              "      <td>1</td>\n",
              "      <td>1</td>\n",
              "      <td>4</td>\n",
              "      <td>1219017600</td>\n",
              "      <td>\"Delight\" says it all</td>\n",
              "      <td>This is a confection that has been around a fe...</td>\n",
              "    </tr>\n",
              "    <tr>\n",
              "      <th>3</th>\n",
              "      <td>4</td>\n",
              "      <td>B000UA0QIQ</td>\n",
              "      <td>A395BORC6FGVXV</td>\n",
              "      <td>Karl</td>\n",
              "      <td>3</td>\n",
              "      <td>3</td>\n",
              "      <td>2</td>\n",
              "      <td>1307923200</td>\n",
              "      <td>Cough Medicine</td>\n",
              "      <td>If you are looking for the secret ingredient i...</td>\n",
              "    </tr>\n",
              "    <tr>\n",
              "      <th>4</th>\n",
              "      <td>5</td>\n",
              "      <td>B006K2ZZ7K</td>\n",
              "      <td>A1UQRSCLF8GW1T</td>\n",
              "      <td>Michael D. Bigham \"M. Wassir\"</td>\n",
              "      <td>0</td>\n",
              "      <td>0</td>\n",
              "      <td>5</td>\n",
              "      <td>1350777600</td>\n",
              "      <td>Great taffy</td>\n",
              "      <td>Great taffy at a great price.  There was a wid...</td>\n",
              "    </tr>\n",
              "  </tbody>\n",
              "</table>\n",
              "</div>\n",
              "      <button class=\"colab-df-convert\" onclick=\"convertToInteractive('df-370ce96e-4584-46cd-bf79-86e88ad8839e')\"\n",
              "              title=\"Convert this dataframe to an interactive table.\"\n",
              "              style=\"display:none;\">\n",
              "        \n",
              "  <svg xmlns=\"http://www.w3.org/2000/svg\" height=\"24px\"viewBox=\"0 0 24 24\"\n",
              "       width=\"24px\">\n",
              "    <path d=\"M0 0h24v24H0V0z\" fill=\"none\"/>\n",
              "    <path d=\"M18.56 5.44l.94 2.06.94-2.06 2.06-.94-2.06-.94-.94-2.06-.94 2.06-2.06.94zm-11 1L8.5 8.5l.94-2.06 2.06-.94-2.06-.94L8.5 2.5l-.94 2.06-2.06.94zm10 10l.94 2.06.94-2.06 2.06-.94-2.06-.94-.94-2.06-.94 2.06-2.06.94z\"/><path d=\"M17.41 7.96l-1.37-1.37c-.4-.4-.92-.59-1.43-.59-.52 0-1.04.2-1.43.59L10.3 9.45l-7.72 7.72c-.78.78-.78 2.05 0 2.83L4 21.41c.39.39.9.59 1.41.59.51 0 1.02-.2 1.41-.59l7.78-7.78 2.81-2.81c.8-.78.8-2.07 0-2.86zM5.41 20L4 18.59l7.72-7.72 1.47 1.35L5.41 20z\"/>\n",
              "  </svg>\n",
              "      </button>\n",
              "      \n",
              "  <style>\n",
              "    .colab-df-container {\n",
              "      display:flex;\n",
              "      flex-wrap:wrap;\n",
              "      gap: 12px;\n",
              "    }\n",
              "\n",
              "    .colab-df-convert {\n",
              "      background-color: #E8F0FE;\n",
              "      border: none;\n",
              "      border-radius: 50%;\n",
              "      cursor: pointer;\n",
              "      display: none;\n",
              "      fill: #1967D2;\n",
              "      height: 32px;\n",
              "      padding: 0 0 0 0;\n",
              "      width: 32px;\n",
              "    }\n",
              "\n",
              "    .colab-df-convert:hover {\n",
              "      background-color: #E2EBFA;\n",
              "      box-shadow: 0px 1px 2px rgba(60, 64, 67, 0.3), 0px 1px 3px 1px rgba(60, 64, 67, 0.15);\n",
              "      fill: #174EA6;\n",
              "    }\n",
              "\n",
              "    [theme=dark] .colab-df-convert {\n",
              "      background-color: #3B4455;\n",
              "      fill: #D2E3FC;\n",
              "    }\n",
              "\n",
              "    [theme=dark] .colab-df-convert:hover {\n",
              "      background-color: #434B5C;\n",
              "      box-shadow: 0px 1px 3px 1px rgba(0, 0, 0, 0.15);\n",
              "      filter: drop-shadow(0px 1px 2px rgba(0, 0, 0, 0.3));\n",
              "      fill: #FFFFFF;\n",
              "    }\n",
              "  </style>\n",
              "\n",
              "      <script>\n",
              "        const buttonEl =\n",
              "          document.querySelector('#df-370ce96e-4584-46cd-bf79-86e88ad8839e button.colab-df-convert');\n",
              "        buttonEl.style.display =\n",
              "          google.colab.kernel.accessAllowed ? 'block' : 'none';\n",
              "\n",
              "        async function convertToInteractive(key) {\n",
              "          const element = document.querySelector('#df-370ce96e-4584-46cd-bf79-86e88ad8839e');\n",
              "          const dataTable =\n",
              "            await google.colab.kernel.invokeFunction('convertToInteractive',\n",
              "                                                     [key], {});\n",
              "          if (!dataTable) return;\n",
              "\n",
              "          const docLinkHtml = 'Like what you see? Visit the ' +\n",
              "            '<a target=\"_blank\" href=https://colab.research.google.com/notebooks/data_table.ipynb>data table notebook</a>'\n",
              "            + ' to learn more about interactive tables.';\n",
              "          element.innerHTML = '';\n",
              "          dataTable['output_type'] = 'display_data';\n",
              "          await google.colab.output.renderOutput(dataTable, element);\n",
              "          const docLink = document.createElement('div');\n",
              "          docLink.innerHTML = docLinkHtml;\n",
              "          element.appendChild(docLink);\n",
              "        }\n",
              "      </script>\n",
              "    </div>\n",
              "  </div>\n",
              "  "
            ]
          },
          "metadata": {},
          "execution_count": 4
        }
      ],
      "source": [
        "data1 = pd.read_csv('/content/drive/MyDrive/DS/Amazon Food Review/Reviews.csv')\n",
        "data1.head()"
      ]
    },
    {
      "cell_type": "code",
      "source": [
        "data1.shape"
      ],
      "metadata": {
        "colab": {
          "base_uri": "https://localhost:8080/"
        },
        "id": "lBSgsuER1YQl",
        "outputId": "c55c8590-4bf0-4304-94a8-ca792a4bb3b0"
      },
      "id": "lBSgsuER1YQl",
      "execution_count": 9,
      "outputs": [
        {
          "output_type": "execute_result",
          "data": {
            "text/plain": [
              "(568454, 10)"
            ]
          },
          "metadata": {},
          "execution_count": 9
        }
      ]
    },
    {
      "cell_type": "code",
      "execution_count": 17,
      "id": "1b2866a7",
      "metadata": {
        "execution": {
          "iopub.execute_input": "2022-11-24T10:29:44.489636Z",
          "iopub.status.busy": "2022-11-24T10:29:44.489285Z",
          "iopub.status.idle": "2022-11-24T10:29:44.494634Z",
          "shell.execute_reply": "2022-11-24T10:29:44.493284Z"
        },
        "papermill": {
          "duration": 0.016186,
          "end_time": "2022-11-24T10:29:44.497170",
          "exception": false,
          "start_time": "2022-11-24T10:29:44.480984",
          "status": "completed"
        },
        "tags": [],
        "id": "1b2866a7"
      },
      "outputs": [],
      "source": [
        "data = data1.head(10000)"
      ]
    },
    {
      "cell_type": "code",
      "execution_count": 18,
      "id": "bc46d792",
      "metadata": {
        "execution": {
          "iopub.execute_input": "2022-11-24T10:29:44.512580Z",
          "iopub.status.busy": "2022-11-24T10:29:44.512206Z",
          "iopub.status.idle": "2022-11-24T10:29:44.519007Z",
          "shell.execute_reply": "2022-11-24T10:29:44.518011Z"
        },
        "papermill": {
          "duration": 0.01712,
          "end_time": "2022-11-24T10:29:44.521460",
          "exception": false,
          "start_time": "2022-11-24T10:29:44.504340",
          "status": "completed"
        },
        "tags": [],
        "colab": {
          "base_uri": "https://localhost:8080/"
        },
        "id": "bc46d792",
        "outputId": "9db6d776-b69a-433a-cccf-276eda49be42"
      },
      "outputs": [
        {
          "output_type": "execute_result",
          "data": {
            "text/plain": [
              "Index(['Id', 'ProductId', 'UserId', 'ProfileName', 'HelpfulnessNumerator',\n",
              "       'HelpfulnessDenominator', 'Score', 'Time', 'Summary', 'Text'],\n",
              "      dtype='object')"
            ]
          },
          "metadata": {},
          "execution_count": 18
        }
      ],
      "source": [
        "data.columns"
      ]
    },
    {
      "cell_type": "code",
      "execution_count": 19,
      "id": "33481243",
      "metadata": {
        "execution": {
          "iopub.execute_input": "2022-11-24T10:29:44.537498Z",
          "iopub.status.busy": "2022-11-24T10:29:44.537107Z",
          "iopub.status.idle": "2022-11-24T10:29:44.574708Z",
          "shell.execute_reply": "2022-11-24T10:29:44.573004Z"
        },
        "papermill": {
          "duration": 0.047873,
          "end_time": "2022-11-24T10:29:44.576799",
          "exception": false,
          "start_time": "2022-11-24T10:29:44.528926",
          "status": "completed"
        },
        "tags": [],
        "colab": {
          "base_uri": "https://localhost:8080/"
        },
        "id": "33481243",
        "outputId": "c29d2b67-6cc7-482b-b3b5-7df531b8cc62"
      },
      "outputs": [
        {
          "output_type": "stream",
          "name": "stdout",
          "text": [
            "<class 'pandas.core.frame.DataFrame'>\n",
            "RangeIndex: 10000 entries, 0 to 9999\n",
            "Data columns (total 10 columns):\n",
            " #   Column                  Non-Null Count  Dtype \n",
            "---  ------                  --------------  ----- \n",
            " 0   Id                      10000 non-null  int64 \n",
            " 1   ProductId               10000 non-null  object\n",
            " 2   UserId                  10000 non-null  object\n",
            " 3   ProfileName             10000 non-null  object\n",
            " 4   HelpfulnessNumerator    10000 non-null  int64 \n",
            " 5   HelpfulnessDenominator  10000 non-null  int64 \n",
            " 6   Score                   10000 non-null  int64 \n",
            " 7   Time                    10000 non-null  int64 \n",
            " 8   Summary                 10000 non-null  object\n",
            " 9   Text                    10000 non-null  object\n",
            "dtypes: int64(5), object(5)\n",
            "memory usage: 781.4+ KB\n"
          ]
        }
      ],
      "source": [
        "data.info()"
      ]
    },
    {
      "cell_type": "code",
      "execution_count": 20,
      "id": "bcf014a8",
      "metadata": {
        "execution": {
          "iopub.execute_input": "2022-11-24T10:29:44.593968Z",
          "iopub.status.busy": "2022-11-24T10:29:44.592940Z",
          "iopub.status.idle": "2022-11-24T10:29:44.607029Z",
          "shell.execute_reply": "2022-11-24T10:29:44.605609Z"
        },
        "papermill": {
          "duration": 0.024476,
          "end_time": "2022-11-24T10:29:44.609395",
          "exception": false,
          "start_time": "2022-11-24T10:29:44.584919",
          "status": "completed"
        },
        "tags": [],
        "colab": {
          "base_uri": "https://localhost:8080/"
        },
        "id": "bcf014a8",
        "outputId": "6b2f582f-0c35-4c0f-cc0f-e618af1d8b8f"
      },
      "outputs": [
        {
          "output_type": "execute_result",
          "data": {
            "text/plain": [
              "Id                        0\n",
              "ProductId                 0\n",
              "UserId                    0\n",
              "ProfileName               0\n",
              "HelpfulnessNumerator      0\n",
              "HelpfulnessDenominator    0\n",
              "Score                     0\n",
              "Time                      0\n",
              "Summary                   0\n",
              "Text                      0\n",
              "dtype: int64"
            ]
          },
          "metadata": {},
          "execution_count": 20
        }
      ],
      "source": [
        "data.isnull().sum()"
      ]
    },
    {
      "cell_type": "code",
      "execution_count": 22,
      "id": "88c0adc3",
      "metadata": {
        "execution": {
          "iopub.execute_input": "2022-11-24T10:29:44.625304Z",
          "iopub.status.busy": "2022-11-24T10:29:44.624898Z",
          "iopub.status.idle": "2022-11-24T10:29:44.641781Z",
          "shell.execute_reply": "2022-11-24T10:29:44.640782Z"
        },
        "papermill": {
          "duration": 0.026876,
          "end_time": "2022-11-24T10:29:44.643625",
          "exception": false,
          "start_time": "2022-11-24T10:29:44.616749",
          "status": "completed"
        },
        "tags": [],
        "colab": {
          "base_uri": "https://localhost:8080/"
        },
        "id": "88c0adc3",
        "outputId": "cd64578b-8819-4396-b095-d53638915c66"
      },
      "outputs": [
        {
          "output_type": "execute_result",
          "data": {
            "text/plain": [
              "(10000, 10)"
            ]
          },
          "metadata": {},
          "execution_count": 22
        }
      ],
      "source": [
        "data.dropna(inplace = True , axis = 0)\n",
        "data.shape"
      ]
    },
    {
      "cell_type": "code",
      "execution_count": 23,
      "id": "f49b443d",
      "metadata": {
        "execution": {
          "iopub.execute_input": "2022-11-24T10:29:44.660219Z",
          "iopub.status.busy": "2022-11-24T10:29:44.659827Z",
          "iopub.status.idle": "2022-11-24T10:29:44.670557Z",
          "shell.execute_reply": "2022-11-24T10:29:44.669620Z"
        },
        "papermill": {
          "duration": 0.021264,
          "end_time": "2022-11-24T10:29:44.672423",
          "exception": false,
          "start_time": "2022-11-24T10:29:44.651159",
          "status": "completed"
        },
        "tags": [],
        "colab": {
          "base_uri": "https://localhost:8080/"
        },
        "id": "f49b443d",
        "outputId": "27315050-f750-42d4-a713-13a23a2443da"
      },
      "outputs": [
        {
          "output_type": "execute_result",
          "data": {
            "text/plain": [
              "array([5, 1, 4, 2, 3])"
            ]
          },
          "metadata": {},
          "execution_count": 23
        }
      ],
      "source": [
        "data.Score.unique()"
      ]
    },
    {
      "cell_type": "code",
      "execution_count": 24,
      "id": "2a01f141",
      "metadata": {
        "execution": {
          "iopub.execute_input": "2022-11-24T10:29:44.690014Z",
          "iopub.status.busy": "2022-11-24T10:29:44.688992Z",
          "iopub.status.idle": "2022-11-24T10:29:44.695039Z",
          "shell.execute_reply": "2022-11-24T10:29:44.693924Z"
        },
        "papermill": {
          "duration": 0.017563,
          "end_time": "2022-11-24T10:29:44.697867",
          "exception": false,
          "start_time": "2022-11-24T10:29:44.680304",
          "status": "completed"
        },
        "tags": [],
        "id": "2a01f141"
      },
      "outputs": [],
      "source": [
        "def number_to_feedback(x):\n",
        "    if(x < 3):\n",
        "        return 0\n",
        "#     elif(x == 3):\n",
        "#         return 'Neutral'\n",
        "    else:\n",
        "        return 1"
      ]
    },
    {
      "cell_type": "code",
      "execution_count": 25,
      "id": "8308b771",
      "metadata": {
        "execution": {
          "iopub.execute_input": "2022-11-24T10:29:44.715828Z",
          "iopub.status.busy": "2022-11-24T10:29:44.715030Z",
          "iopub.status.idle": "2022-11-24T10:29:44.727879Z",
          "shell.execute_reply": "2022-11-24T10:29:44.726932Z"
        },
        "papermill": {
          "duration": 0.024114,
          "end_time": "2022-11-24T10:29:44.730096",
          "exception": false,
          "start_time": "2022-11-24T10:29:44.705982",
          "status": "completed"
        },
        "tags": [],
        "colab": {
          "base_uri": "https://localhost:8080/"
        },
        "id": "8308b771",
        "outputId": "466cd2db-dbde-4df2-b8d4-ef1b6cffcd50"
      },
      "outputs": [
        {
          "output_type": "stream",
          "name": "stderr",
          "text": [
            "<ipython-input-25-92a07ccb68c1>:2: SettingWithCopyWarning: \n",
            "A value is trying to be set on a copy of a slice from a DataFrame.\n",
            "Try using .loc[row_indexer,col_indexer] = value instead\n",
            "\n",
            "See the caveats in the documentation: https://pandas.pydata.org/pandas-docs/stable/user_guide/indexing.html#returning-a-view-versus-a-copy\n",
            "  data['feedback'] = data['Score'].apply(number_to_feedback)\n"
          ]
        },
        {
          "output_type": "execute_result",
          "data": {
            "text/plain": [
              "array([1, 0])"
            ]
          },
          "metadata": {},
          "execution_count": 25
        }
      ],
      "source": [
        "# Converting our feedback data into categorical data in the form of [0,1] array which will helpful for us\n",
        "data['feedback'] = data['Score'].apply(number_to_feedback)\n",
        "data.feedback.unique()"
      ]
    },
    {
      "cell_type": "code",
      "execution_count": 26,
      "id": "ac347c66",
      "metadata": {
        "execution": {
          "iopub.execute_input": "2022-11-24T10:29:44.747956Z",
          "iopub.status.busy": "2022-11-24T10:29:44.746774Z",
          "iopub.status.idle": "2022-11-24T10:29:45.918633Z",
          "shell.execute_reply": "2022-11-24T10:29:45.917192Z"
        },
        "papermill": {
          "duration": 1.182691,
          "end_time": "2022-11-24T10:29:45.920819",
          "exception": false,
          "start_time": "2022-11-24T10:29:44.738128",
          "status": "completed"
        },
        "tags": [],
        "colab": {
          "base_uri": "https://localhost:8080/",
          "height": 427
        },
        "id": "ac347c66",
        "outputId": "bb892a66-ee3a-4e10-bd92-39573418cdbb"
      },
      "outputs": [
        {
          "output_type": "stream",
          "name": "stderr",
          "text": [
            "/usr/local/lib/python3.8/dist-packages/seaborn/_decorators.py:36: FutureWarning: Pass the following variable as a keyword arg: x. From version 0.12, the only valid positional argument will be `data`, and passing other arguments without an explicit keyword will result in an error or misinterpretation.\n",
            "  warnings.warn(\n"
          ]
        },
        {
          "output_type": "display_data",
          "data": {
            "text/plain": [
              "<Figure size 1296x432 with 1 Axes>"
            ],
            "image/png": "[encoded data removed]"
          },
          "metadata": {
            "needs_background": "light"
          }
        }
      ],
      "source": [
        "import matplotlib.pyplot as plt\n",
        "plt.figure(figsize = (18,6))\n",
        "import seaborn as sns\n",
        "sns.countplot(data.feedback)\n",
        "plt.show()"
      ]
    },
    {
      "cell_type": "code",
      "execution_count": 27,
      "id": "0f69bb34",
      "metadata": {
        "execution": {
          "iopub.execute_input": "2022-11-24T10:29:45.938625Z",
          "iopub.status.busy": "2022-11-24T10:29:45.937745Z",
          "iopub.status.idle": "2022-11-24T10:29:46.075359Z",
          "shell.execute_reply": "2022-11-24T10:29:46.074402Z"
        },
        "papermill": {
          "duration": 0.148682,
          "end_time": "2022-11-24T10:29:46.077316",
          "exception": false,
          "start_time": "2022-11-24T10:29:45.928634",
          "status": "completed"
        },
        "tags": [],
        "colab": {
          "base_uri": "https://localhost:8080/",
          "height": 427
        },
        "id": "0f69bb34",
        "outputId": "9299dec8-eb95-48a4-ce00-340068cea374"
      },
      "outputs": [
        {
          "output_type": "stream",
          "name": "stderr",
          "text": [
            "/usr/local/lib/python3.8/dist-packages/seaborn/_decorators.py:36: FutureWarning: Pass the following variable as a keyword arg: x. From version 0.12, the only valid positional argument will be `data`, and passing other arguments without an explicit keyword will result in an error or misinterpretation.\n",
            "  warnings.warn(\n"
          ]
        },
        {
          "output_type": "display_data",
          "data": {
            "text/plain": [
              "<Figure size 1296x432 with 1 Axes>"
            ],
            "image/png": "[encoded data removed]"
          },
          "metadata": {
            "needs_background": "light"
          }
        }
      ],
      "source": [
        "import matplotlib.pyplot as plt\n",
        "plt.figure(figsize = (18,6))\n",
        "import seaborn as sns\n",
        "sns.countplot(data['Score'])\n",
        "plt.show()"
      ]
    },
    {
      "cell_type": "code",
      "execution_count": 28,
      "id": "8ba5c32d",
      "metadata": {
        "execution": {
          "iopub.execute_input": "2022-11-24T10:29:46.098794Z",
          "iopub.status.busy": "2022-11-24T10:29:46.097712Z",
          "iopub.status.idle": "2022-11-24T10:29:46.124350Z",
          "shell.execute_reply": "2022-11-24T10:29:46.123625Z"
        },
        "papermill": {
          "duration": 0.038494,
          "end_time": "2022-11-24T10:29:46.125930",
          "exception": false,
          "start_time": "2022-11-24T10:29:46.087436",
          "status": "completed"
        },
        "tags": [],
        "colab": {
          "base_uri": "https://localhost:8080/"
        },
        "id": "8ba5c32d",
        "outputId": "a8cd2464-9000-45eb-f5b6-82dc93e6ed70"
      },
      "outputs": [
        {
          "output_type": "stream",
          "name": "stderr",
          "text": [
            "/usr/local/lib/python3.8/dist-packages/pandas/util/_decorators.py:311: SettingWithCopyWarning: \n",
            "A value is trying to be set on a copy of a slice from a DataFrame\n",
            "\n",
            "See the caveats in the documentation: https://pandas.pydata.org/pandas-docs/stable/user_guide/indexing.html#returning-a-view-versus-a-copy\n",
            "  return func(*args, **kwargs)\n"
          ]
        },
        {
          "output_type": "execute_result",
          "data": {
            "text/plain": [
              "(9515, 11)"
            ]
          },
          "metadata": {},
          "execution_count": 28
        }
      ],
      "source": [
        "data.drop_duplicates(subset = {\"UserId\",\"ProfileName\",\"Time\",\"Text\"} , inplace = True)\n",
        "data.shape"
      ]
    },
    {
      "cell_type": "code",
      "execution_count": 29,
      "id": "0f14a10d",
      "metadata": {
        "execution": {
          "iopub.execute_input": "2022-11-24T10:29:46.144221Z",
          "iopub.status.busy": "2022-11-24T10:29:46.143115Z",
          "iopub.status.idle": "2022-11-24T10:29:46.152305Z",
          "shell.execute_reply": "2022-11-24T10:29:46.151379Z"
        },
        "papermill": {
          "duration": 0.020437,
          "end_time": "2022-11-24T10:29:46.154498",
          "exception": false,
          "start_time": "2022-11-24T10:29:46.134061",
          "status": "completed"
        },
        "tags": [],
        "colab": {
          "base_uri": "https://localhost:8080/"
        },
        "id": "0f14a10d",
        "outputId": "0b7933e8-9b66-4100-e70a-94e323428772"
      },
      "outputs": [
        {
          "output_type": "execute_result",
          "data": {
            "text/plain": [
              "(9515, 11)"
            ]
          },
          "metadata": {},
          "execution_count": 29
        }
      ],
      "source": [
        "final_data = data[data['HelpfulnessNumerator'] <= data['HelpfulnessDenominator']]\n",
        "final_data.shape"
      ]
    },
    {
      "cell_type": "code",
      "execution_count": 30,
      "id": "9e395836",
      "metadata": {
        "execution": {
          "iopub.execute_input": "2022-11-24T10:29:46.172173Z",
          "iopub.status.busy": "2022-11-24T10:29:46.171856Z",
          "iopub.status.idle": "2022-11-24T10:29:46.177037Z",
          "shell.execute_reply": "2022-11-24T10:29:46.176428Z"
        },
        "papermill": {
          "duration": 0.016614,
          "end_time": "2022-11-24T10:29:46.179390",
          "exception": false,
          "start_time": "2022-11-24T10:29:46.162776",
          "status": "completed"
        },
        "tags": [],
        "id": "9e395836"
      },
      "outputs": [],
      "source": [
        "final_X = final_data.loc[: , ['Text']]\n",
        "final_y = final_data.loc[: , 'feedback']"
      ]
    },
    {
      "cell_type": "code",
      "source": [
        "'''\n",
        "3]. Text Preprocessing.\n",
        "Now that we have finished deduplication our data requires some preprocessing \n",
        "before we go on further with analysis and making the prediction model.\n",
        "\n",
        "Hence in the Preprocessing phase we do in the following order\n",
        "\n",
        "Begin by removing the html tags\n",
        "Remove any punctuations or limited set of special characters like , or . or # etc.\n",
        "Check if the word is made up of english letters and is not alpha-numeric\n",
        "Check to see if the length of the word is greater than 2 (as it was researched that there is no adjective in 2-letters)\n",
        "Convert the word to lowercase\n",
        "Remove Stopwords\n",
        "Finally Snowball Stemming the word (it was obsereved to be better than Porter Stemming)\n",
        "After which we collect the words used to describe positive and negative reviews\n",
        "'''"
      ],
      "metadata": {
        "id": "muROBULHnLrK"
      },
      "id": "muROBULHnLrK",
      "execution_count": null,
      "outputs": []
    },
    {
      "cell_type": "code",
      "execution_count": 37,
      "id": "0804918b",
      "metadata": {
        "execution": {
          "iopub.execute_input": "2022-11-24T10:29:46.198762Z",
          "iopub.status.busy": "2022-11-24T10:29:46.197746Z",
          "iopub.status.idle": "2022-11-24T10:29:46.948731Z",
          "shell.execute_reply": "2022-11-24T10:29:46.947441Z"
        },
        "papermill": {
          "duration": 0.763039,
          "end_time": "2022-11-24T10:29:46.950970",
          "exception": false,
          "start_time": "2022-11-24T10:29:46.187931",
          "status": "completed"
        },
        "tags": [],
        "colab": {
          "base_uri": "https://localhost:8080/"
        },
        "id": "0804918b",
        "outputId": "23f86f2a-c738-4660-96dd-c500042e9985"
      },
      "outputs": [
        {
          "output_type": "stream",
          "name": "stderr",
          "text": [
            "[nltk_data] Downloading package stopwords to /root/nltk_data...\n",
            "[nltk_data]   Unzipping corpora/stopwords.zip.\n"
          ]
        }
      ],
      "source": [
        "import nltk\n",
        "from nltk.corpus import stopwords\n",
        "nltk.download('stopwords')\n",
        "import string\n",
        "stop = set(stopwords.words('english'))\n",
        "punctuation = list(string.punctuation)\n",
        "stop.update(punctuation)"
      ]
    },
    {
      "cell_type": "code",
      "execution_count": 38,
      "id": "ddd5182c",
      "metadata": {
        "execution": {
          "iopub.execute_input": "2022-11-24T10:29:46.969521Z",
          "iopub.status.busy": "2022-11-24T10:29:46.969146Z",
          "iopub.status.idle": "2022-11-24T10:29:46.975686Z",
          "shell.execute_reply": "2022-11-24T10:29:46.974668Z"
        },
        "papermill": {
          "duration": 0.017784,
          "end_time": "2022-11-24T10:29:46.977456",
          "exception": false,
          "start_time": "2022-11-24T10:29:46.959672",
          "status": "completed"
        },
        "tags": [],
        "id": "ddd5182c"
      },
      "outputs": [],
      "source": [
        "from nltk import stem\n",
        "import re\n",
        "snow = stem.SnowballStemmer('english')\n",
        "'''\n",
        "Snowball Stemmer\n",
        "\n",
        "The following languages are supported:\n",
        "Arabic, Danish, Dutch, English, Finnish, French, German,\n",
        "Hungarian, Italian, Norwegian, Portuguese, Romanian, Russian,\n",
        "Spanish and Swedish.\n",
        "\n",
        "The algorithm for English is documented here:\n",
        "\n",
        "    Porter, M. \"An algorithm for suffix stripping.\"\n",
        "    Program 14.3 (1980): 130-137.\n",
        "\n",
        "The algorithms have been developed by Martin Porter.\n",
        "These stemmers are called Snowball, because Porter created\n",
        "a programming language with this name for creating\n",
        "new stemming algorithms. There is more information available\n",
        "at http://snowball.tartarus.org/\n",
        "\n",
        "The stemmer is invoked as shown below:\n",
        "'''\n",
        "def text_cleaning(sentence):\n",
        "    sentence = sentence.lower()\n",
        "    cleanr = re.compile('<.*?>')\n",
        "    sentence = re.sub(cleanr, ' ', sentence) #removed html tag\n",
        "    words = [snow.stem(word) for word in sentence.split() if word not in stop]\n",
        "    return ' '.join(words)"
      ]
    },
    {
      "cell_type": "code",
      "execution_count": 39,
      "id": "decbd302",
      "metadata": {
        "execution": {
          "iopub.execute_input": "2022-11-24T10:29:46.996225Z",
          "iopub.status.busy": "2022-11-24T10:29:46.995869Z",
          "iopub.status.idle": "2022-11-24T10:29:52.204978Z",
          "shell.execute_reply": "2022-11-24T10:29:52.203981Z"
        },
        "papermill": {
          "duration": 5.221033,
          "end_time": "2022-11-24T10:29:52.207130",
          "exception": false,
          "start_time": "2022-11-24T10:29:46.986097",
          "status": "completed"
        },
        "tags": [],
        "colab": {
          "base_uri": "https://localhost:8080/",
          "height": 206
        },
        "id": "decbd302",
        "outputId": "594194c0-ddcc-4a9f-9af6-652194248d5d"
      },
      "outputs": [
        {
          "output_type": "execute_result",
          "data": {
            "text/plain": [
              "                                                Text  \\\n",
              "0  I have bought several of the Vitality canned d...   \n",
              "1  Product arrived labeled as Jumbo Salted Peanut...   \n",
              "2  This is a confection that has been around a fe...   \n",
              "3  If you are looking for the secret ingredient i...   \n",
              "4  Great taffy at a great price.  There was a wid...   \n",
              "\n",
              "                                        cleaned_text  \n",
              "0  bought sever vital can dog food product found ...  \n",
              "1  product arriv label jumbo salt peanuts...th pe...  \n",
              "2  confect around centuries. light, pillowi citru...  \n",
              "3  look secret ingredi robitussin believ found it...  \n",
              "4  great taffi great price. wide assort yummi taf...  "
            ],
            "text/html": [
              "\n",
              "  <div id=\"df-6704031d-3929-4ee1-b8bd-7f35a4ef58db\">\n",
              "    <div class=\"colab-df-container\">\n",
              "      <div>\n",
              "<style scoped>\n",
              "    .dataframe tbody tr th:only-of-type {\n",
              "        vertical-align: middle;\n",
              "    }\n",
              "\n",
              "    .dataframe tbody tr th {\n",
              "        vertical-align: top;\n",
              "    }\n",
              "\n",
              "    .dataframe thead th {\n",
              "        text-align: right;\n",
              "    }\n",
              "</style>\n",
              "<table border=\"1\" class=\"dataframe\">\n",
              "  <thead>\n",
              "    <tr style=\"text-align: right;\">\n",
              "      <th></th>\n",
              "      <th>Text</th>\n",
              "      <th>cleaned_text</th>\n",
              "    </tr>\n",
              "  </thead>\n",
              "  <tbody>\n",
              "    <tr>\n",
              "      <th>0</th>\n",
              "      <td>I have bought several of the Vitality canned d...</td>\n",
              "      <td>bought sever vital can dog food product found ...</td>\n",
              "    </tr>\n",
              "    <tr>\n",
              "      <th>1</th>\n",
              "      <td>Product arrived labeled as Jumbo Salted Peanut...</td>\n",
              "      <td>product arriv label jumbo salt peanuts...th pe...</td>\n",
              "    </tr>\n",
              "    <tr>\n",
              "      <th>2</th>\n",
              "      <td>This is a confection that has been around a fe...</td>\n",
              "      <td>confect around centuries. light, pillowi citru...</td>\n",
              "    </tr>\n",
              "    <tr>\n",
              "      <th>3</th>\n",
              "      <td>If you are looking for the secret ingredient i...</td>\n",
              "      <td>look secret ingredi robitussin believ found it...</td>\n",
              "    </tr>\n",
              "    <tr>\n",
              "      <th>4</th>\n",
              "      <td>Great taffy at a great price.  There was a wid...</td>\n",
              "      <td>great taffi great price. wide assort yummi taf...</td>\n",
              "    </tr>\n",
              "  </tbody>\n",
              "</table>\n",
              "</div>\n",
              "      <button class=\"colab-df-convert\" onclick=\"convertToInteractive('df-6704031d-3929-4ee1-b8bd-7f35a4ef58db')\"\n",
              "              title=\"Convert this dataframe to an interactive table.\"\n",
              "              style=\"display:none;\">\n",
              "        \n",
              "  <svg xmlns=\"http://www.w3.org/2000/svg\" height=\"24px\"viewBox=\"0 0 24 24\"\n",
              "       width=\"24px\">\n",
              "    <path d=\"M0 0h24v24H0V0z\" fill=\"none\"/>\n",
              "    <path d=\"M18.56 5.44l.94 2.06.94-2.06 2.06-.94-2.06-.94-.94-2.06-.94 2.06-2.06.94zm-11 1L8.5 8.5l.94-2.06 2.06-.94-2.06-.94L8.5 2.5l-.94 2.06-2.06.94zm10 10l.94 2.06.94-2.06 2.06-.94-2.06-.94-.94-2.06-.94 2.06-2.06.94z\"/><path d=\"M17.41 7.96l-1.37-1.37c-.4-.4-.92-.59-1.43-.59-.52 0-1.04.2-1.43.59L10.3 9.45l-7.72 7.72c-.78.78-.78 2.05 0 2.83L4 21.41c.39.39.9.59 1.41.59.51 0 1.02-.2 1.41-.59l7.78-7.78 2.81-2.81c.8-.78.8-2.07 0-2.86zM5.41 20L4 18.59l7.72-7.72 1.47 1.35L5.41 20z\"/>\n",
              "  </svg>\n",
              "      </button>\n",
              "      \n",
              "  <style>\n",
              "    .colab-df-container {\n",
              "      display:flex;\n",
              "      flex-wrap:wrap;\n",
              "      gap: 12px;\n",
              "    }\n",
              "\n",
              "    .colab-df-convert {\n",
              "      background-color: #E8F0FE;\n",
              "      border: none;\n",
              "      border-radius: 50%;\n",
              "      cursor: pointer;\n",
              "      display: none;\n",
              "      fill: #1967D2;\n",
              "      height: 32px;\n",
              "      padding: 0 0 0 0;\n",
              "      width: 32px;\n",
              "    }\n",
              "\n",
              "    .colab-df-convert:hover {\n",
              "      background-color: #E2EBFA;\n",
              "      box-shadow: 0px 1px 2px rgba(60, 64, 67, 0.3), 0px 1px 3px 1px rgba(60, 64, 67, 0.15);\n",
              "      fill: #174EA6;\n",
              "    }\n",
              "\n",
              "    [theme=dark] .colab-df-convert {\n",
              "      background-color: #3B4455;\n",
              "      fill: #D2E3FC;\n",
              "    }\n",
              "\n",
              "    [theme=dark] .colab-df-convert:hover {\n",
              "      background-color: #434B5C;\n",
              "      box-shadow: 0px 1px 3px 1px rgba(0, 0, 0, 0.15);\n",
              "      filter: drop-shadow(0px 1px 2px rgba(0, 0, 0, 0.3));\n",
              "      fill: #FFFFFF;\n",
              "    }\n",
              "  </style>\n",
              "\n",
              "      <script>\n",
              "        const buttonEl =\n",
              "          document.querySelector('#df-6704031d-3929-4ee1-b8bd-7f35a4ef58db button.colab-df-convert');\n",
              "        buttonEl.style.display =\n",
              "          google.colab.kernel.accessAllowed ? 'block' : 'none';\n",
              "\n",
              "        async function convertToInteractive(key) {\n",
              "          const element = document.querySelector('#df-6704031d-3929-4ee1-b8bd-7f35a4ef58db');\n",
              "          const dataTable =\n",
              "            await google.colab.kernel.invokeFunction('convertToInteractive',\n",
              "                                                     [key], {});\n",
              "          if (!dataTable) return;\n",
              "\n",
              "          const docLinkHtml = 'Like what you see? Visit the ' +\n",
              "            '<a target=\"_blank\" href=https://colab.research.google.com/notebooks/data_table.ipynb>data table notebook</a>'\n",
              "            + ' to learn more about interactive tables.';\n",
              "          element.innerHTML = '';\n",
              "          dataTable['output_type'] = 'display_data';\n",
              "          await google.colab.output.renderOutput(dataTable, element);\n",
              "          const docLink = document.createElement('div');\n",
              "          docLink.innerHTML = docLinkHtml;\n",
              "          element.appendChild(docLink);\n",
              "        }\n",
              "      </script>\n",
              "    </div>\n",
              "  </div>\n",
              "  "
            ]
          },
          "metadata": {},
          "execution_count": 39
        }
      ],
      "source": [
        "final_X['cleaned_text'] = final_X['Text'].apply(text_cleaning)\n",
        "final_X.head()"
      ]
    },
    {
      "cell_type": "code",
      "execution_count": 40,
      "id": "2d0a8906",
      "metadata": {
        "execution": {
          "iopub.execute_input": "2022-11-24T10:29:52.226026Z",
          "iopub.status.busy": "2022-11-24T10:29:52.225073Z",
          "iopub.status.idle": "2022-11-24T10:29:52.545805Z",
          "shell.execute_reply": "2022-11-24T10:29:52.544023Z"
        },
        "papermill": {
          "duration": 0.333179,
          "end_time": "2022-11-24T10:29:52.548790",
          "exception": false,
          "start_time": "2022-11-24T10:29:52.215611",
          "status": "completed"
        },
        "tags": [],
        "colab": {
          "base_uri": "https://localhost:8080/"
        },
        "id": "2d0a8906",
        "outputId": "fa1db760-5e8c-4fde-e4d8-617214a24b4c"
      },
      "outputs": [
        {
          "output_type": "stream",
          "name": "stdout",
          "text": [
            "CPU times: user 448 ms, sys: 1.74 ms, total: 449 ms\n",
            "Wall time: 487 ms\n"
          ]
        }
      ],
      "source": [
        "%%time\n",
        "from sklearn.feature_extraction.text import TfidfVectorizer\n",
        "tfidf = TfidfVectorizer(max_features = 5000)\n",
        "tf_data = tfidf.fit_transform(final_X['cleaned_text'])"
      ]
    },
    {
      "cell_type": "code",
      "execution_count": 41,
      "id": "6af32dc6",
      "metadata": {
        "execution": {
          "iopub.execute_input": "2022-11-24T10:29:52.568689Z",
          "iopub.status.busy": "2022-11-24T10:29:52.568301Z",
          "iopub.status.idle": "2022-11-24T10:29:52.576525Z",
          "shell.execute_reply": "2022-11-24T10:29:52.575033Z"
        },
        "papermill": {
          "duration": 0.020714,
          "end_time": "2022-11-24T10:29:52.578514",
          "exception": false,
          "start_time": "2022-11-24T10:29:52.557800",
          "status": "completed"
        },
        "tags": [],
        "colab": {
          "base_uri": "https://localhost:8080/"
        },
        "id": "6af32dc6",
        "outputId": "f589572c-6575-4214-ff99-0e1dab999fd2"
      },
      "outputs": [
        {
          "output_type": "execute_result",
          "data": {
            "text/plain": [
              "<1x5000 sparse matrix of type '<class 'numpy.float64'>'\n",
              "\twith 17 stored elements in Compressed Sparse Row format>"
            ]
          },
          "metadata": {},
          "execution_count": 41
        }
      ],
      "source": [
        "tf_data[1]"
      ]
    },
    {
      "cell_type": "code",
      "execution_count": 42,
      "id": "43bc30cb",
      "metadata": {
        "execution": {
          "iopub.execute_input": "2022-11-24T10:29:52.598082Z",
          "iopub.status.busy": "2022-11-24T10:29:52.597726Z",
          "iopub.status.idle": "2022-11-24T10:29:52.610309Z",
          "shell.execute_reply": "2022-11-24T10:29:52.609156Z"
        },
        "papermill": {
          "duration": 0.025751,
          "end_time": "2022-11-24T10:29:52.612914",
          "exception": false,
          "start_time": "2022-11-24T10:29:52.587163",
          "status": "completed"
        },
        "tags": [],
        "id": "43bc30cb"
      },
      "outputs": [],
      "source": [
        "from sklearn.model_selection import train_test_split\n",
        "X_train  , X_test , y_train , y_test = train_test_split(tf_data , final_y , test_size = 0.2 , stratify = final_y)\n"
      ]
    },
    {
      "cell_type": "code",
      "execution_count": 43,
      "id": "d0056923",
      "metadata": {
        "execution": {
          "iopub.execute_input": "2022-11-24T10:29:52.632477Z",
          "iopub.status.busy": "2022-11-24T10:29:52.631432Z",
          "iopub.status.idle": "2022-11-24T10:29:52.636395Z",
          "shell.execute_reply": "2022-11-24T10:29:52.635315Z"
        },
        "papermill": {
          "duration": 0.016328,
          "end_time": "2022-11-24T10:29:52.638106",
          "exception": false,
          "start_time": "2022-11-24T10:29:52.621778",
          "status": "completed"
        },
        "tags": [],
        "id": "d0056923"
      },
      "outputs": [],
      "source": [
        "from sklearn.linear_model import LogisticRegression\n",
        "model1 = LogisticRegression()"
      ]
    },
    {
      "cell_type": "code",
      "execution_count": 44,
      "id": "28c7fc2a",
      "metadata": {
        "execution": {
          "iopub.execute_input": "2022-11-24T10:29:52.656582Z",
          "iopub.status.busy": "2022-11-24T10:29:52.656219Z",
          "iopub.status.idle": "2022-11-24T10:29:52.803355Z",
          "shell.execute_reply": "2022-11-24T10:29:52.802393Z"
        },
        "papermill": {
          "duration": 0.158491,
          "end_time": "2022-11-24T10:29:52.805299",
          "exception": false,
          "start_time": "2022-11-24T10:29:52.646808",
          "status": "completed"
        },
        "tags": [],
        "colab": {
          "base_uri": "https://localhost:8080/"
        },
        "id": "28c7fc2a",
        "outputId": "fa389afd-457c-45e0-ba64-82edc5e788cb"
      },
      "outputs": [
        {
          "output_type": "execute_result",
          "data": {
            "text/plain": [
              "LogisticRegression()"
            ]
          },
          "metadata": {},
          "execution_count": 44
        }
      ],
      "source": [
        "model1.fit(X_train , y_train)"
      ]
    },
    {
      "cell_type": "code",
      "execution_count": 45,
      "id": "5eab58ce",
      "metadata": {
        "execution": {
          "iopub.execute_input": "2022-11-24T10:29:52.824853Z",
          "iopub.status.busy": "2022-11-24T10:29:52.823953Z",
          "iopub.status.idle": "2022-11-24T10:29:52.829358Z",
          "shell.execute_reply": "2022-11-24T10:29:52.828511Z"
        },
        "papermill": {
          "duration": 0.017242,
          "end_time": "2022-11-24T10:29:52.831328",
          "exception": false,
          "start_time": "2022-11-24T10:29:52.814086",
          "status": "completed"
        },
        "tags": [],
        "id": "5eab58ce"
      },
      "outputs": [],
      "source": [
        "pred = model1.predict(X_test)"
      ]
    },
    {
      "cell_type": "code",
      "execution_count": 46,
      "id": "c8de1a03",
      "metadata": {
        "execution": {
          "iopub.execute_input": "2022-11-24T10:29:52.850697Z",
          "iopub.status.busy": "2022-11-24T10:29:52.850344Z",
          "iopub.status.idle": "2022-11-24T10:29:52.857082Z",
          "shell.execute_reply": "2022-11-24T10:29:52.856179Z"
        },
        "papermill": {
          "duration": 0.018426,
          "end_time": "2022-11-24T10:29:52.859022",
          "exception": false,
          "start_time": "2022-11-24T10:29:52.840596",
          "status": "completed"
        },
        "tags": [],
        "colab": {
          "base_uri": "https://localhost:8080/"
        },
        "id": "c8de1a03",
        "outputId": "236ab8a7-c3a0-4029-9297-a4e990e2d16e"
      },
      "outputs": [
        {
          "output_type": "execute_result",
          "data": {
            "text/plain": [
              "0.8717813977929585"
            ]
          },
          "metadata": {},
          "execution_count": 46
        }
      ],
      "source": [
        "from sklearn.metrics import accuracy_score\n",
        "accuracy_score(y_test , pred)"
      ]
    },
    {
      "cell_type": "code",
      "execution_count": 47,
      "id": "85583c1f",
      "metadata": {
        "execution": {
          "iopub.execute_input": "2022-11-24T10:29:52.881979Z",
          "iopub.status.busy": "2022-11-24T10:29:52.881346Z",
          "iopub.status.idle": "2022-11-24T10:30:03.744545Z",
          "shell.execute_reply": "2022-11-24T10:30:03.743359Z"
        },
        "papermill": {
          "duration": 10.878735,
          "end_time": "2022-11-24T10:30:03.747281",
          "exception": false,
          "start_time": "2022-11-24T10:29:52.868546",
          "status": "completed"
        },
        "tags": [],
        "colab": {
          "base_uri": "https://localhost:8080/"
        },
        "id": "85583c1f",
        "outputId": "51a5408f-8dea-4afe-810e-34b1088099e7"
      },
      "outputs": [
        {
          "output_type": "execute_result",
          "data": {
            "text/plain": [
              "0.8738833420914346"
            ]
          },
          "metadata": {},
          "execution_count": 47
        }
      ],
      "source": [
        "from sklearn.svm import SVC\n",
        "model2 = SVC()\n",
        "model2.fit(X_train , y_train)\n",
        "pred = model2.predict(X_test)\n",
        "accuracy_score(y_test , pred)"
      ]
    },
    {
      "cell_type": "code",
      "execution_count": 49,
      "id": "c26def4a",
      "metadata": {
        "execution": {
          "iopub.execute_input": "2022-11-24T10:30:03.767937Z",
          "iopub.status.busy": "2022-11-24T10:30:03.767552Z",
          "iopub.status.idle": "2022-11-24T10:30:03.771914Z",
          "shell.execute_reply": "2022-11-24T10:30:03.770822Z"
        },
        "papermill": {
          "duration": 0.017426,
          "end_time": "2022-11-24T10:30:03.773836",
          "exception": false,
          "start_time": "2022-11-24T10:30:03.756410",
          "status": "completed"
        },
        "tags": [],
        "colab": {
          "base_uri": "https://localhost:8080/",
          "height": 407
        },
        "id": "c26def4a",
        "outputId": "c3d7d951-6678-4d41-d729-97104d0184fb"
      },
      "outputs": [
        {
          "output_type": "error",
          "ename": "TypeError",
          "evalue": "ignored",
          "traceback": [
            "\u001b[0;31m---------------------------------------------------------------------------\u001b[0m",
            "\u001b[0;31mTypeError\u001b[0m                                 Traceback (most recent call last)",
            "\u001b[0;32m<ipython-input-49-50a23e3c554c>\u001b[0m in \u001b[0;36m<module>\u001b[0;34m\u001b[0m\n\u001b[1;32m      1\u001b[0m \u001b[0;32mfrom\u001b[0m \u001b[0msklearn\u001b[0m\u001b[0;34m.\u001b[0m\u001b[0mnaive_bayes\u001b[0m \u001b[0;32mimport\u001b[0m \u001b[0mGaussianNB\u001b[0m\u001b[0;34m\u001b[0m\u001b[0;34m\u001b[0m\u001b[0m\n\u001b[1;32m      2\u001b[0m \u001b[0mmodel\u001b[0m \u001b[0;34m=\u001b[0m \u001b[0mGaussianNB\u001b[0m\u001b[0;34m(\u001b[0m\u001b[0;34m)\u001b[0m\u001b[0;34m\u001b[0m\u001b[0;34m\u001b[0m\u001b[0m\n\u001b[0;32m----> 3\u001b[0;31m \u001b[0mmodel\u001b[0m\u001b[0;34m.\u001b[0m\u001b[0mfit\u001b[0m\u001b[0;34m(\u001b[0m\u001b[0mX_train\u001b[0m \u001b[0;34m,\u001b[0m \u001b[0my_train\u001b[0m\u001b[0;34m)\u001b[0m\u001b[0;34m\u001b[0m\u001b[0;34m\u001b[0m\u001b[0m\n\u001b[0m\u001b[1;32m      4\u001b[0m \u001b[0mpred\u001b[0m \u001b[0;34m=\u001b[0m \u001b[0mmodel\u001b[0m\u001b[0;34m.\u001b[0m\u001b[0mpredict\u001b[0m\u001b[0;34m(\u001b[0m\u001b[0mX_test\u001b[0m\u001b[0;34m)\u001b[0m\u001b[0;34m\u001b[0m\u001b[0;34m\u001b[0m\u001b[0m\n\u001b[1;32m      5\u001b[0m \u001b[0maccuracy_score\u001b[0m\u001b[0;34m(\u001b[0m\u001b[0my_test\u001b[0m \u001b[0;34m,\u001b[0m \u001b[0mpred\u001b[0m\u001b[0;34m)\u001b[0m\u001b[0;34m\u001b[0m\u001b[0;34m\u001b[0m\u001b[0m\n",
            "\u001b[0;32m/usr/local/lib/python3.8/dist-packages/sklearn/naive_bayes.py\u001b[0m in \u001b[0;36mfit\u001b[0;34m(self, X, y, sample_weight)\u001b[0m\n\u001b[1;32m    243\u001b[0m         \"\"\"\n\u001b[1;32m    244\u001b[0m         \u001b[0my\u001b[0m \u001b[0;34m=\u001b[0m \u001b[0mself\u001b[0m\u001b[0;34m.\u001b[0m\u001b[0m_validate_data\u001b[0m\u001b[0;34m(\u001b[0m\u001b[0my\u001b[0m\u001b[0;34m=\u001b[0m\u001b[0my\u001b[0m\u001b[0;34m)\u001b[0m\u001b[0;34m\u001b[0m\u001b[0;34m\u001b[0m\u001b[0m\n\u001b[0;32m--> 245\u001b[0;31m         return self._partial_fit(\n\u001b[0m\u001b[1;32m    246\u001b[0m             \u001b[0mX\u001b[0m\u001b[0;34m,\u001b[0m \u001b[0my\u001b[0m\u001b[0;34m,\u001b[0m \u001b[0mnp\u001b[0m\u001b[0;34m.\u001b[0m\u001b[0munique\u001b[0m\u001b[0;34m(\u001b[0m\u001b[0my\u001b[0m\u001b[0;34m)\u001b[0m\u001b[0;34m,\u001b[0m \u001b[0m_refit\u001b[0m\u001b[0;34m=\u001b[0m\u001b[0;32mTrue\u001b[0m\u001b[0;34m,\u001b[0m \u001b[0msample_weight\u001b[0m\u001b[0;34m=\u001b[0m\u001b[0msample_weight\u001b[0m\u001b[0;34m\u001b[0m\u001b[0;34m\u001b[0m\u001b[0m\n\u001b[1;32m    247\u001b[0m         )\n",
            "\u001b[0;32m/usr/local/lib/python3.8/dist-packages/sklearn/naive_bayes.py\u001b[0m in \u001b[0;36m_partial_fit\u001b[0;34m(self, X, y, classes, _refit, sample_weight)\u001b[0m\n\u001b[1;32m    400\u001b[0m \u001b[0;34m\u001b[0m\u001b[0m\n\u001b[1;32m    401\u001b[0m         \u001b[0mfirst_call\u001b[0m \u001b[0;34m=\u001b[0m \u001b[0m_check_partial_fit_first_call\u001b[0m\u001b[0;34m(\u001b[0m\u001b[0mself\u001b[0m\u001b[0;34m,\u001b[0m \u001b[0mclasses\u001b[0m\u001b[0;34m)\u001b[0m\u001b[0;34m\u001b[0m\u001b[0;34m\u001b[0m\u001b[0m\n\u001b[0;32m--> 402\u001b[0;31m         \u001b[0mX\u001b[0m\u001b[0;34m,\u001b[0m \u001b[0my\u001b[0m \u001b[0;34m=\u001b[0m \u001b[0mself\u001b[0m\u001b[0;34m.\u001b[0m\u001b[0m_validate_data\u001b[0m\u001b[0;34m(\u001b[0m\u001b[0mX\u001b[0m\u001b[0;34m,\u001b[0m \u001b[0my\u001b[0m\u001b[0;34m,\u001b[0m \u001b[0mreset\u001b[0m\u001b[0;34m=\u001b[0m\u001b[0mfirst_call\u001b[0m\u001b[0;34m)\u001b[0m\u001b[0;34m\u001b[0m\u001b[0;34m\u001b[0m\u001b[0m\n\u001b[0m\u001b[1;32m    403\u001b[0m         \u001b[0;32mif\u001b[0m \u001b[0msample_weight\u001b[0m \u001b[0;32mis\u001b[0m \u001b[0;32mnot\u001b[0m \u001b[0;32mNone\u001b[0m\u001b[0;34m:\u001b[0m\u001b[0;34m\u001b[0m\u001b[0;34m\u001b[0m\u001b[0m\n\u001b[1;32m    404\u001b[0m             \u001b[0msample_weight\u001b[0m \u001b[0;34m=\u001b[0m \u001b[0m_check_sample_weight\u001b[0m\u001b[0;34m(\u001b[0m\u001b[0msample_weight\u001b[0m\u001b[0;34m,\u001b[0m \u001b[0mX\u001b[0m\u001b[0;34m)\u001b[0m\u001b[0;34m\u001b[0m\u001b[0;34m\u001b[0m\u001b[0m\n",
            "\u001b[0;32m/usr/local/lib/python3.8/dist-packages/sklearn/base.py\u001b[0m in \u001b[0;36m_validate_data\u001b[0;34m(self, X, y, reset, validate_separately, **check_params)\u001b[0m\n\u001b[1;32m    579\u001b[0m                 \u001b[0my\u001b[0m \u001b[0;34m=\u001b[0m \u001b[0mcheck_array\u001b[0m\u001b[0;34m(\u001b[0m\u001b[0my\u001b[0m\u001b[0;34m,\u001b[0m \u001b[0;34m**\u001b[0m\u001b[0mcheck_y_params\u001b[0m\u001b[0;34m)\u001b[0m\u001b[0;34m\u001b[0m\u001b[0;34m\u001b[0m\u001b[0m\n\u001b[1;32m    580\u001b[0m             \u001b[0;32melse\u001b[0m\u001b[0;34m:\u001b[0m\u001b[0;34m\u001b[0m\u001b[0;34m\u001b[0m\u001b[0m\n\u001b[0;32m--> 581\u001b[0;31m                 \u001b[0mX\u001b[0m\u001b[0;34m,\u001b[0m \u001b[0my\u001b[0m \u001b[0;34m=\u001b[0m \u001b[0mcheck_X_y\u001b[0m\u001b[0;34m(\u001b[0m\u001b[0mX\u001b[0m\u001b[0;34m,\u001b[0m \u001b[0my\u001b[0m\u001b[0;34m,\u001b[0m \u001b[0;34m**\u001b[0m\u001b[0mcheck_params\u001b[0m\u001b[0;34m)\u001b[0m\u001b[0;34m\u001b[0m\u001b[0;34m\u001b[0m\u001b[0m\n\u001b[0m\u001b[1;32m    582\u001b[0m             \u001b[0mout\u001b[0m \u001b[0;34m=\u001b[0m \u001b[0mX\u001b[0m\u001b[0;34m,\u001b[0m \u001b[0my\u001b[0m\u001b[0;34m\u001b[0m\u001b[0;34m\u001b[0m\u001b[0m\n\u001b[1;32m    583\u001b[0m \u001b[0;34m\u001b[0m\u001b[0m\n",
            "\u001b[0;32m/usr/local/lib/python3.8/dist-packages/sklearn/utils/validation.py\u001b[0m in \u001b[0;36mcheck_X_y\u001b[0;34m(X, y, accept_sparse, accept_large_sparse, dtype, order, copy, force_all_finite, ensure_2d, allow_nd, multi_output, ensure_min_samples, ensure_min_features, y_numeric, estimator)\u001b[0m\n\u001b[1;32m    962\u001b[0m         \u001b[0;32mraise\u001b[0m \u001b[0mValueError\u001b[0m\u001b[0;34m(\u001b[0m\u001b[0;34m\"y cannot be None\"\u001b[0m\u001b[0;34m)\u001b[0m\u001b[0;34m\u001b[0m\u001b[0;34m\u001b[0m\u001b[0m\n\u001b[1;32m    963\u001b[0m \u001b[0;34m\u001b[0m\u001b[0m\n\u001b[0;32m--> 964\u001b[0;31m     X = check_array(\n\u001b[0m\u001b[1;32m    965\u001b[0m         \u001b[0mX\u001b[0m\u001b[0;34m,\u001b[0m\u001b[0;34m\u001b[0m\u001b[0;34m\u001b[0m\u001b[0m\n\u001b[1;32m    966\u001b[0m         \u001b[0maccept_sparse\u001b[0m\u001b[0;34m=\u001b[0m\u001b[0maccept_sparse\u001b[0m\u001b[0;34m,\u001b[0m\u001b[0;34m\u001b[0m\u001b[0;34m\u001b[0m\u001b[0m\n",
            "\u001b[0;32m/usr/local/lib/python3.8/dist-packages/sklearn/utils/validation.py\u001b[0m in \u001b[0;36mcheck_array\u001b[0;34m(array, accept_sparse, accept_large_sparse, dtype, order, copy, force_all_finite, ensure_2d, allow_nd, ensure_min_samples, ensure_min_features, estimator)\u001b[0m\n\u001b[1;32m    718\u001b[0m     \u001b[0;32mif\u001b[0m \u001b[0msp\u001b[0m\u001b[0;34m.\u001b[0m\u001b[0missparse\u001b[0m\u001b[0;34m(\u001b[0m\u001b[0marray\u001b[0m\u001b[0;34m)\u001b[0m\u001b[0;34m:\u001b[0m\u001b[0;34m\u001b[0m\u001b[0;34m\u001b[0m\u001b[0m\n\u001b[1;32m    719\u001b[0m         \u001b[0m_ensure_no_complex_data\u001b[0m\u001b[0;34m(\u001b[0m\u001b[0marray\u001b[0m\u001b[0;34m)\u001b[0m\u001b[0;34m\u001b[0m\u001b[0;34m\u001b[0m\u001b[0m\n\u001b[0;32m--> 720\u001b[0;31m         array = _ensure_sparse_format(\n\u001b[0m\u001b[1;32m    721\u001b[0m             \u001b[0marray\u001b[0m\u001b[0;34m,\u001b[0m\u001b[0;34m\u001b[0m\u001b[0;34m\u001b[0m\u001b[0m\n\u001b[1;32m    722\u001b[0m             \u001b[0maccept_sparse\u001b[0m\u001b[0;34m=\u001b[0m\u001b[0maccept_sparse\u001b[0m\u001b[0;34m,\u001b[0m\u001b[0;34m\u001b[0m\u001b[0;34m\u001b[0m\u001b[0m\n",
            "\u001b[0;32m/usr/local/lib/python3.8/dist-packages/sklearn/utils/validation.py\u001b[0m in \u001b[0;36m_ensure_sparse_format\u001b[0;34m(spmatrix, accept_sparse, dtype, copy, force_all_finite, accept_large_sparse)\u001b[0m\n\u001b[1;32m    438\u001b[0m \u001b[0;34m\u001b[0m\u001b[0m\n\u001b[1;32m    439\u001b[0m     \u001b[0;32mif\u001b[0m \u001b[0maccept_sparse\u001b[0m \u001b[0;32mis\u001b[0m \u001b[0;32mFalse\u001b[0m\u001b[0;34m:\u001b[0m\u001b[0;34m\u001b[0m\u001b[0;34m\u001b[0m\u001b[0m\n\u001b[0;32m--> 440\u001b[0;31m         raise TypeError(\n\u001b[0m\u001b[1;32m    441\u001b[0m             \u001b[0;34m\"A sparse matrix was passed, but dense \"\u001b[0m\u001b[0;34m\u001b[0m\u001b[0;34m\u001b[0m\u001b[0m\n\u001b[1;32m    442\u001b[0m             \u001b[0;34m\"data is required. Use X.toarray() to \"\u001b[0m\u001b[0;34m\u001b[0m\u001b[0;34m\u001b[0m\u001b[0m\n",
            "\u001b[0;31mTypeError\u001b[0m: A sparse matrix was passed, but dense data is required. Use X.toarray() to convert to a dense numpy array."
          ]
        }
      ],
      "source": [
        "# from sklearn.naive_bayes import GaussianNB\n",
        "# model = GaussianNB()\n",
        "# model.fit(X_train , y_train)\n",
        "# pred = model.predict(X_test)\n",
        "# accuracy_score(y_test , pred)\n",
        "\n",
        "# for Gaussian we have to pass dense architecture"
      ]
    },
    {
      "cell_type": "code",
      "execution_count": 50,
      "id": "7eaff185",
      "metadata": {
        "execution": {
          "iopub.execute_input": "2022-11-24T10:30:03.793208Z",
          "iopub.status.busy": "2022-11-24T10:30:03.792799Z",
          "iopub.status.idle": "2022-11-24T10:30:06.417142Z",
          "shell.execute_reply": "2022-11-24T10:30:06.416450Z"
        },
        "papermill": {
          "duration": 2.636305,
          "end_time": "2022-11-24T10:30:06.419031",
          "exception": false,
          "start_time": "2022-11-24T10:30:03.782726",
          "status": "completed"
        },
        "tags": [],
        "colab": {
          "base_uri": "https://localhost:8080/"
        },
        "id": "7eaff185",
        "outputId": "f2edccf2-625c-4a22-cc9c-cec010779dbe"
      },
      "outputs": [
        {
          "output_type": "execute_result",
          "data": {
            "text/plain": [
              "0.8271150814503415"
            ]
          },
          "metadata": {},
          "execution_count": 50
        }
      ],
      "source": [
        "from sklearn.tree import DecisionTreeClassifier\n",
        "model3 = DecisionTreeClassifier()\n",
        "model3.fit(X_train , y_train)\n",
        "pred = model3.predict(X_test)\n",
        "accuracy_score(y_test , pred)"
      ]
    },
    {
      "cell_type": "code",
      "execution_count": 51,
      "id": "04de7bf8",
      "metadata": {
        "execution": {
          "iopub.execute_input": "2022-11-24T10:30:06.438580Z",
          "iopub.status.busy": "2022-11-24T10:30:06.437904Z",
          "iopub.status.idle": "2022-11-24T10:30:11.631956Z",
          "shell.execute_reply": "2022-11-24T10:30:11.630931Z"
        },
        "papermill": {
          "duration": 5.206109,
          "end_time": "2022-11-24T10:30:11.634160",
          "exception": false,
          "start_time": "2022-11-24T10:30:06.428051",
          "status": "completed"
        },
        "tags": [],
        "colab": {
          "base_uri": "https://localhost:8080/"
        },
        "id": "04de7bf8",
        "outputId": "4b0354fd-83d3-46c5-899d-cdff8eff1df9"
      },
      "outputs": [
        {
          "output_type": "execute_result",
          "data": {
            "text/plain": [
              "0.8660010509721492"
            ]
          },
          "metadata": {},
          "execution_count": 51
        }
      ],
      "source": [
        "from sklearn.ensemble import RandomForestClassifier\n",
        "model4 = RandomForestClassifier()\n",
        "model4.fit(X_train , y_train)\n",
        "pred = model4.predict(X_test)\n",
        "accuracy_score(y_test , pred)"
      ]
    },
    {
      "cell_type": "code",
      "execution_count": 52,
      "id": "05a4903c",
      "metadata": {
        "execution": {
          "iopub.execute_input": "2022-11-24T10:30:11.654836Z",
          "iopub.status.busy": "2022-11-24T10:30:11.654456Z",
          "iopub.status.idle": "2022-11-24T10:30:14.803680Z",
          "shell.execute_reply": "2022-11-24T10:30:14.802654Z"
        },
        "papermill": {
          "duration": 3.16223,
          "end_time": "2022-11-24T10:30:14.805931",
          "exception": false,
          "start_time": "2022-11-24T10:30:11.643701",
          "status": "completed"
        },
        "tags": [],
        "colab": {
          "base_uri": "https://localhost:8080/"
        },
        "id": "05a4903c",
        "outputId": "99a83adf-5cd0-489c-88d5-b8194e3c5a4a"
      },
      "outputs": [
        {
          "output_type": "execute_result",
          "data": {
            "text/plain": [
              "0.8649500788229112"
            ]
          },
          "metadata": {},
          "execution_count": 52
        }
      ],
      "source": [
        "import xgboost as xgb\n",
        "model5 = xgb.XGBClassifier()\n",
        "model5.fit(X_train , y_train)\n",
        "pred = model5.predict(X_test)\n",
        "accuracy_score(y_test , pred)"
      ]
    },
    {
      "cell_type": "code",
      "execution_count": 54,
      "id": "41091b0f",
      "metadata": {
        "papermill": {
          "duration": 0.008631,
          "end_time": "2022-11-24T10:30:14.823803",
          "exception": false,
          "start_time": "2022-11-24T10:30:14.815172",
          "status": "completed"
        },
        "tags": [],
        "colab": {
          "base_uri": "https://localhost:8080/"
        },
        "id": "41091b0f",
        "outputId": "72b2208b-679e-477e-b1f1-7a4e348dede2"
      },
      "outputs": [
        {
          "output_type": "stream",
          "name": "stdout",
          "text": [
            "Logistic Regression Test Accuracy: 0.8750402053565907\n",
            "Decision Tree Test Accuracy: 0.819756514593219\n",
            "SVC Test Accuracy: 0.8738839699917822\n",
            "XGB Test Accuracy: 0.8653707066422784\n",
            "RFC Test Accuracy: 0.8653704857337257\n"
          ]
        }
      ],
      "source": [
        "#creating the objects\n",
        "from sklearn.model_selection import cross_val_score\n",
        "logreg_cv = LogisticRegression(random_state=0)\n",
        "dt_cv=DecisionTreeClassifier()\n",
        "svc_cv=SVC()\n",
        "xgb_cv = xgb.XGBClassifier()\n",
        "random_f_c = RandomForestClassifier()\n",
        "cv_dict = {0: 'Logistic Regression', 1: 'Decision Tree',2:'SVC',3:'XGB',4:'RFC'}\n",
        "cv_models=[logreg_cv,dt_cv,svc_cv,xgb_cv,random_f_c]\n",
        "\n",
        "\n",
        "for i,model in enumerate(cv_models):\n",
        "    print(\"{} Test Accuracy: {}\".format(cv_dict[i],cross_val_score(model, tf_data, final_y, cv=10, scoring ='accuracy').mean()))"
      ]
    },
    {
      "cell_type": "code",
      "source": [],
      "metadata": {
        "id": "UX5PMWosPOc0"
      },
      "id": "UX5PMWosPOc0",
      "execution_count": null,
      "outputs": []
    }
  ],
  "metadata": {
    "kernelspec": {
      "display_name": "Python 3",
      "language": "python",
      "name": "python3"
    },
    "language_info": {
      "codemirror_mode": {
        "name": "ipython",
        "version": 3
      },
      "file_extension": ".py",
      "mimetype": "text/x-python",
      "name": "python",
      "nbconvert_exporter": "python",
      "pygments_lexer": "ipython3",
      "version": "3.7.12"
    },
    "papermill": {
      "default_parameters": {},
      "duration": 45.924615,
      "end_time": "2022-11-24T10:30:15.653436",
      "environment_variables": {},
      "exception": null,
      "input_path": "__notebook__.ipynb",
      "output_path": "__notebook__.ipynb",
      "parameters": {},
      "start_time": "2022-11-24T10:29:29.728821",
      "version": "2.3.4"
    },
    "colab": {
      "provenance": [],
      "include_colab_link": true
    }
  },
  "nbformat": 4,
  "nbformat_minor": 5
}