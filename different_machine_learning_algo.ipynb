{
  "cells": [
    {
      "cell_type": "markdown",
      "metadata": {
        "id": "view-in-github",
        "colab_type": "text"
      },
      "source": [
        "<a href=\"https://colab.research.google.com/github/Ranjan4Kumar/Amazon-Food-Review/blob/main/different_machine_learning_algo.ipynb\" target=\"_parent\"><img src=\"https://colab.research.google.com/assets/colab-badge.svg\" alt=\"Open In Colab\"/></a>"
      ]
    },
    {
      "cell_type": "code",
      "source": [
        "# Donload data set from -> https://drive.google.com/file/d/1VjEjCwoAqEnMSFALlNRNS3e-5zcp3UEQ/view?usp=share_link\n",
        "'''\n",
        "Everyday we come across various products in our lives, on the digital medium we swipe across hundreds of \n",
        "product choices under one category. It will be tedious for the customer to make selection. Here comes \n",
        "'reviews' where customers who have already got that product leave a rating after using them and brief their \n",
        "experience by giving reviews. As we know ratings can be easily sorted and judged whether a product is good or bad. \n",
        "But when it comes to sentence reviews we need to read through every line to make sure the review conveys a positive or\n",
        "negative sense. In the era of artificial intelligence, things like that have got easy with the \n",
        "Natural Langauge Processing(NLP) technology.\n",
        "\n",
        "\n",
        "Objective:\n",
        "Given a review, determine whether the review is positive (Rating of 4 or 5) or negative (rating of 1 or 2).\n",
        "\n",
        "\n",
        "[Q] How to determine if a review is positive or negative?\n",
        "\n",
        "[Ans] We could use the Score/Rating. A rating of 4 or 5 could be cosnidered a positive review. A review of 1 or 2 could be considered negative. A review of 3 is nuetral and ignored. \n",
        "This is an approximate and proxy way of determining the polarity (positivity/negativity) of a review.\n",
        "'''"
      ],
      "metadata": {
        "id": "h5PNSvJKktUe",
        "colab": {
          "base_uri": "https://localhost:8080/",
          "height": 178
        },
        "outputId": "2c7ab9db-5f5d-46b9-e38d-211a76f1d45b"
      },
      "id": "h5PNSvJKktUe",
      "execution_count": 1,
      "outputs": [
        {
          "output_type": "execute_result",
          "data": {
            "text/plain": [
              "\"\\nEveryday we come across various products in our lives, on the digital medium we swipe across hundreds of \\nproduct choices under one category. It will be tedious for the customer to make selection. Here comes \\n'reviews' where customers who have already got that product leave a rating after using them and brief their \\nexperience by giving reviews. As we know ratings can be easily sorted and judged whether a product is good or bad. \\nBut when it comes to sentence reviews we need to read through every line to make sure the review conveys a positive or\\nnegative sense. In the era of artificial intelligence, things like that have got easy with the \\nNatural Langauge Processing(NLP) technology.\\n\\n\\nObjective:\\nGiven a review, determine whether the review is positive (Rating of 4 or 5) or negative (rating of 1 or 2).\\n\\n\\n[Q] How to determine if a review is positive or negative?\\n\\n[Ans] We could use the Score/Rating. A rating of 4 or 5 could be cosnidered a positive review. A review of 1 or 2 could be considered negative. A review of 3 is nuetral and ignored. \\nThis is an approximate and proxy way of determining the polarity (positivity/negativity) of a review.\\n\""
            ],
            "application/vnd.google.colaboratory.intrinsic+json": {
              "type": "string"
            }
          },
          "metadata": {},
          "execution_count": 1
        }
      ]
    },
    {
      "cell_type": "code",
      "execution_count": 2,
      "id": "f8fdeb8d",
      "metadata": {
        "_cell_guid": "b1076dfc-b9ad-4769-8c92-a6c4dae69d19",
        "_uuid": "8f2839f25d086af736a60e9eeb907d3b93b6e0e5",
        "execution": {
          "iopub.execute_input": "2022-11-24T10:29:37.063089Z",
          "iopub.status.busy": "2022-11-24T10:29:37.062470Z",
          "iopub.status.idle": "2022-11-24T10:29:37.080690Z",
          "shell.execute_reply": "2022-11-24T10:29:37.079454Z"
        },
        "papermill": {
          "duration": 0.02984,
          "end_time": "2022-11-24T10:29:37.082583",
          "exception": false,
          "start_time": "2022-11-24T10:29:37.052743",
          "status": "completed"
        },
        "tags": [],
        "id": "f8fdeb8d"
      },
      "outputs": [],
      "source": [
        "import numpy as np # linear algebra\n",
        "import pandas as pd # data processing, CSV file I/O (e.g. pd.read_csv)\n"
      ]
    },
    {
      "cell_type": "code",
      "source": [
        "from google.colab import drive\n",
        "drive.mount('/content/drive')"
      ],
      "metadata": {
        "colab": {
          "base_uri": "https://localhost:8080/"
        },
        "id": "8rfgJY3I02Ux",
        "outputId": "c9e3b6c5-e706-442f-eeaf-c970e05675c6"
      },
      "id": "8rfgJY3I02Ux",
      "execution_count": 3,
      "outputs": [
        {
          "output_type": "stream",
          "name": "stdout",
          "text": [
            "Mounted at /content/drive\n"
          ]
        }
      ]
    },
    {
      "cell_type": "code",
      "execution_count": 4,
      "id": "ea5969f7",
      "metadata": {
        "execution": {
          "iopub.execute_input": "2022-11-24T10:29:37.097896Z",
          "iopub.status.busy": "2022-11-24T10:29:37.096899Z",
          "iopub.status.idle": "2022-11-24T10:29:44.470895Z",
          "shell.execute_reply": "2022-11-24T10:29:44.469611Z"
        },
        "papermill": {
          "duration": 7.384097,
          "end_time": "2022-11-24T10:29:44.473478",
          "exception": false,
          "start_time": "2022-11-24T10:29:37.089381",
          "status": "completed"
        },
        "tags": [],
        "colab": {
          "base_uri": "https://localhost:8080/",
          "height": 739
        },
        "id": "ea5969f7",
        "outputId": "2848a16a-29ce-40ff-d127-5e67c13c87ec"
      },
      "outputs": [
        {
          "output_type": "execute_result",
          "data": {
            "text/plain": [
              "   Id   ProductId          UserId                      ProfileName  \\\n",
              "0   1  B001E4KFG0  A3SGXH7AUHU8GW                       delmartian   \n",
              "1   2  B00813GRG4  A1D87F6ZCVE5NK                           dll pa   \n",
              "2   3  B000LQOCH0   ABXLMWJIXXAIN  Natalia Corres \"Natalia Corres\"   \n",
              "3   4  B000UA0QIQ  A395BORC6FGVXV                             Karl   \n",
              "4   5  B006K2ZZ7K  A1UQRSCLF8GW1T    Michael D. Bigham \"M. Wassir\"   \n",
              "\n",
              "   HelpfulnessNumerator  HelpfulnessDenominator  Score        Time  \\\n",
              "0                     1                       1      5  1303862400   \n",
              "1                     0                       0      1  1346976000   \n",
              "2                     1                       1      4  1219017600   \n",
              "3                     3                       3      2  1307923200   \n",
              "4                     0                       0      5  1350777600   \n",
              "\n",
              "                 Summary                                               Text  \n",
              "0  Good Quality Dog Food  I have bought several of the Vitality canned d...  \n",
              "1      Not as Advertised  Product arrived labeled as Jumbo Salted Peanut...  \n",
              "2  \"Delight\" says it all  This is a confection that has been around a fe...  \n",
              "3         Cough Medicine  If you are looking for the secret ingredient i...  \n",
              "4            Great taffy  Great taffy at a great price.  There was a wid...  "
            ],
            "text/html": [
              "\n",
              "  <div id=\"df-788e1c3b-1dd6-4289-b090-858af66c580c\">\n",
              "    <div class=\"colab-df-container\">\n",
              "      <div>\n",
              "<style scoped>\n",
              "    .dataframe tbody tr th:only-of-type {\n",
              "        vertical-align: middle;\n",
              "    }\n",
              "\n",
              "    .dataframe tbody tr th {\n",
              "        vertical-align: top;\n",
              "    }\n",
              "\n",
              "    .dataframe thead th {\n",
              "        text-align: right;\n",
              "    }\n",
              "</style>\n",
              "<table border=\"1\" class=\"dataframe\">\n",
              "  <thead>\n",
              "    <tr style=\"text-align: right;\">\n",
              "      <th></th>\n",
              "      <th>Id</th>\n",
              "      <th>ProductId</th>\n",
              "      <th>UserId</th>\n",
              "      <th>ProfileName</th>\n",
              "      <th>HelpfulnessNumerator</th>\n",
              "      <th>HelpfulnessDenominator</th>\n",
              "      <th>Score</th>\n",
              "      <th>Time</th>\n",
              "      <th>Summary</th>\n",
              "      <th>Text</th>\n",
              "    </tr>\n",
              "  </thead>\n",
              "  <tbody>\n",
              "    <tr>\n",
              "      <th>0</th>\n",
              "      <td>1</td>\n",
              "      <td>B001E4KFG0</td>\n",
              "      <td>A3SGXH7AUHU8GW</td>\n",
              "      <td>delmartian</td>\n",
              "      <td>1</td>\n",
              "      <td>1</td>\n",
              "      <td>5</td>\n",
              "      <td>1303862400</td>\n",
              "      <td>Good Quality Dog Food</td>\n",
              "      <td>I have bought several of the Vitality canned d...</td>\n",
              "    </tr>\n",
              "    <tr>\n",
              "      <th>1</th>\n",
              "      <td>2</td>\n",
              "      <td>B00813GRG4</td>\n",
              "      <td>A1D87F6ZCVE5NK</td>\n",
              "      <td>dll pa</td>\n",
              "      <td>0</td>\n",
              "      <td>0</td>\n",
              "      <td>1</td>\n",
              "      <td>1346976000</td>\n",
              "      <td>Not as Advertised</td>\n",
              "      <td>Product arrived labeled as Jumbo Salted Peanut...</td>\n",
              "    </tr>\n",
              "    <tr>\n",
              "      <th>2</th>\n",
              "      <td>3</td>\n",
              "      <td>B000LQOCH0</td>\n",
              "      <td>ABXLMWJIXXAIN</td>\n",
              "      <td>Natalia Corres \"Natalia Corres\"</td>\n",
              "      <td>1</td>\n",
              "      <td>1</td>\n",
              "      <td>4</td>\n",
              "      <td>1219017600</td>\n",
              "      <td>\"Delight\" says it all</td>\n",
              "      <td>This is a confection that has been around a fe...</td>\n",
              "    </tr>\n",
              "    <tr>\n",
              "      <th>3</th>\n",
              "      <td>4</td>\n",
              "      <td>B000UA0QIQ</td>\n",
              "      <td>A395BORC6FGVXV</td>\n",
              "      <td>Karl</td>\n",
              "      <td>3</td>\n",
              "      <td>3</td>\n",
              "      <td>2</td>\n",
              "      <td>1307923200</td>\n",
              "      <td>Cough Medicine</td>\n",
              "      <td>If you are looking for the secret ingredient i...</td>\n",
              "    </tr>\n",
              "    <tr>\n",
              "      <th>4</th>\n",
              "      <td>5</td>\n",
              "      <td>B006K2ZZ7K</td>\n",
              "      <td>A1UQRSCLF8GW1T</td>\n",
              "      <td>Michael D. Bigham \"M. Wassir\"</td>\n",
              "      <td>0</td>\n",
              "      <td>0</td>\n",
              "      <td>5</td>\n",
              "      <td>1350777600</td>\n",
              "      <td>Great taffy</td>\n",
              "      <td>Great taffy at a great price.  There was a wid...</td>\n",
              "    </tr>\n",
              "  </tbody>\n",
              "</table>\n",
              "</div>\n",
              "      <button class=\"colab-df-convert\" onclick=\"convertToInteractive('df-788e1c3b-1dd6-4289-b090-858af66c580c')\"\n",
              "              title=\"Convert this dataframe to an interactive table.\"\n",
              "              style=\"display:none;\">\n",
              "        \n",
              "  <svg xmlns=\"http://www.w3.org/2000/svg\" height=\"24px\"viewBox=\"0 0 24 24\"\n",
              "       width=\"24px\">\n",
              "    <path d=\"M0 0h24v24H0V0z\" fill=\"none\"/>\n",
              "    <path d=\"M18.56 5.44l.94 2.06.94-2.06 2.06-.94-2.06-.94-.94-2.06-.94 2.06-2.06.94zm-11 1L8.5 8.5l.94-2.06 2.06-.94-2.06-.94L8.5 2.5l-.94 2.06-2.06.94zm10 10l.94 2.06.94-2.06 2.06-.94-2.06-.94-.94-2.06-.94 2.06-2.06.94z\"/><path d=\"M17.41 7.96l-1.37-1.37c-.4-.4-.92-.59-1.43-.59-.52 0-1.04.2-1.43.59L10.3 9.45l-7.72 7.72c-.78.78-.78 2.05 0 2.83L4 21.41c.39.39.9.59 1.41.59.51 0 1.02-.2 1.41-.59l7.78-7.78 2.81-2.81c.8-.78.8-2.07 0-2.86zM5.41 20L4 18.59l7.72-7.72 1.47 1.35L5.41 20z\"/>\n",
              "  </svg>\n",
              "      </button>\n",
              "      \n",
              "  <style>\n",
              "    .colab-df-container {\n",
              "      display:flex;\n",
              "      flex-wrap:wrap;\n",
              "      gap: 12px;\n",
              "    }\n",
              "\n",
              "    .colab-df-convert {\n",
              "      background-color: #E8F0FE;\n",
              "      border: none;\n",
              "      border-radius: 50%;\n",
              "      cursor: pointer;\n",
              "      display: none;\n",
              "      fill: #1967D2;\n",
              "      height: 32px;\n",
              "      padding: 0 0 0 0;\n",
              "      width: 32px;\n",
              "    }\n",
              "\n",
              "    .colab-df-convert:hover {\n",
              "      background-color: #E2EBFA;\n",
              "      box-shadow: 0px 1px 2px rgba(60, 64, 67, 0.3), 0px 1px 3px 1px rgba(60, 64, 67, 0.15);\n",
              "      fill: #174EA6;\n",
              "    }\n",
              "\n",
              "    [theme=dark] .colab-df-convert {\n",
              "      background-color: #3B4455;\n",
              "      fill: #D2E3FC;\n",
              "    }\n",
              "\n",
              "    [theme=dark] .colab-df-convert:hover {\n",
              "      background-color: #434B5C;\n",
              "      box-shadow: 0px 1px 3px 1px rgba(0, 0, 0, 0.15);\n",
              "      filter: drop-shadow(0px 1px 2px rgba(0, 0, 0, 0.3));\n",
              "      fill: #FFFFFF;\n",
              "    }\n",
              "  </style>\n",
              "\n",
              "      <script>\n",
              "        const buttonEl =\n",
              "          document.querySelector('#df-788e1c3b-1dd6-4289-b090-858af66c580c button.colab-df-convert');\n",
              "        buttonEl.style.display =\n",
              "          google.colab.kernel.accessAllowed ? 'block' : 'none';\n",
              "\n",
              "        async function convertToInteractive(key) {\n",
              "          const element = document.querySelector('#df-788e1c3b-1dd6-4289-b090-858af66c580c');\n",
              "          const dataTable =\n",
              "            await google.colab.kernel.invokeFunction('convertToInteractive',\n",
              "                                                     [key], {});\n",
              "          if (!dataTable) return;\n",
              "\n",
              "          const docLinkHtml = 'Like what you see? Visit the ' +\n",
              "            '<a target=\"_blank\" href=https://colab.research.google.com/notebooks/data_table.ipynb>data table notebook</a>'\n",
              "            + ' to learn more about interactive tables.';\n",
              "          element.innerHTML = '';\n",
              "          dataTable['output_type'] = 'display_data';\n",
              "          await google.colab.output.renderOutput(dataTable, element);\n",
              "          const docLink = document.createElement('div');\n",
              "          docLink.innerHTML = docLinkHtml;\n",
              "          element.appendChild(docLink);\n",
              "        }\n",
              "      </script>\n",
              "    </div>\n",
              "  </div>\n",
              "  "
            ]
          },
          "metadata": {},
          "execution_count": 4
        }
      ],
      "source": [
        "data1 = pd.read_csv('/content/drive/MyDrive/DS/Amazon Food Review/Reviews.csv')\n",
        "data1.head()"
      ]
    },
    {
      "cell_type": "code",
      "source": [
        "data1.shape"
      ],
      "metadata": {
        "colab": {
          "base_uri": "https://localhost:8080/"
        },
        "id": "lBSgsuER1YQl",
        "outputId": "7e9212cc-248c-4d48-c9b2-71b11d72c9fa"
      },
      "id": "lBSgsuER1YQl",
      "execution_count": 5,
      "outputs": [
        {
          "output_type": "execute_result",
          "data": {
            "text/plain": [
              "(568454, 10)"
            ]
          },
          "metadata": {},
          "execution_count": 5
        }
      ]
    },
    {
      "cell_type": "code",
      "execution_count": 6,
      "id": "1b2866a7",
      "metadata": {
        "execution": {
          "iopub.execute_input": "2022-11-24T10:29:44.489636Z",
          "iopub.status.busy": "2022-11-24T10:29:44.489285Z",
          "iopub.status.idle": "2022-11-24T10:29:44.494634Z",
          "shell.execute_reply": "2022-11-24T10:29:44.493284Z"
        },
        "papermill": {
          "duration": 0.016186,
          "end_time": "2022-11-24T10:29:44.497170",
          "exception": false,
          "start_time": "2022-11-24T10:29:44.480984",
          "status": "completed"
        },
        "tags": [],
        "id": "1b2866a7"
      },
      "outputs": [],
      "source": [
        "data = data1.head(10000)"
      ]
    },
    {
      "cell_type": "code",
      "execution_count": 7,
      "id": "bc46d792",
      "metadata": {
        "execution": {
          "iopub.execute_input": "2022-11-24T10:29:44.512580Z",
          "iopub.status.busy": "2022-11-24T10:29:44.512206Z",
          "iopub.status.idle": "2022-11-24T10:29:44.519007Z",
          "shell.execute_reply": "2022-11-24T10:29:44.518011Z"
        },
        "papermill": {
          "duration": 0.01712,
          "end_time": "2022-11-24T10:29:44.521460",
          "exception": false,
          "start_time": "2022-11-24T10:29:44.504340",
          "status": "completed"
        },
        "tags": [],
        "colab": {
          "base_uri": "https://localhost:8080/"
        },
        "id": "bc46d792",
        "outputId": "f4d7e018-8ad1-41c9-9fd7-6528a93e2782"
      },
      "outputs": [
        {
          "output_type": "execute_result",
          "data": {
            "text/plain": [
              "Index(['Id', 'ProductId', 'UserId', 'ProfileName', 'HelpfulnessNumerator',\n",
              "       'HelpfulnessDenominator', 'Score', 'Time', 'Summary', 'Text'],\n",
              "      dtype='object')"
            ]
          },
          "metadata": {},
          "execution_count": 7
        }
      ],
      "source": [
        "data.columns"
      ]
    },
    {
      "cell_type": "code",
      "execution_count": 8,
      "id": "33481243",
      "metadata": {
        "execution": {
          "iopub.execute_input": "2022-11-24T10:29:44.537498Z",
          "iopub.status.busy": "2022-11-24T10:29:44.537107Z",
          "iopub.status.idle": "2022-11-24T10:29:44.574708Z",
          "shell.execute_reply": "2022-11-24T10:29:44.573004Z"
        },
        "papermill": {
          "duration": 0.047873,
          "end_time": "2022-11-24T10:29:44.576799",
          "exception": false,
          "start_time": "2022-11-24T10:29:44.528926",
          "status": "completed"
        },
        "tags": [],
        "colab": {
          "base_uri": "https://localhost:8080/"
        },
        "id": "33481243",
        "outputId": "78f29ca0-a493-4ee2-b067-776f582adc88"
      },
      "outputs": [
        {
          "output_type": "stream",
          "name": "stdout",
          "text": [
            "<class 'pandas.core.frame.DataFrame'>\n",
            "RangeIndex: 10000 entries, 0 to 9999\n",
            "Data columns (total 10 columns):\n",
            " #   Column                  Non-Null Count  Dtype \n",
            "---  ------                  --------------  ----- \n",
            " 0   Id                      10000 non-null  int64 \n",
            " 1   ProductId               10000 non-null  object\n",
            " 2   UserId                  10000 non-null  object\n",
            " 3   ProfileName             10000 non-null  object\n",
            " 4   HelpfulnessNumerator    10000 non-null  int64 \n",
            " 5   HelpfulnessDenominator  10000 non-null  int64 \n",
            " 6   Score                   10000 non-null  int64 \n",
            " 7   Time                    10000 non-null  int64 \n",
            " 8   Summary                 10000 non-null  object\n",
            " 9   Text                    10000 non-null  object\n",
            "dtypes: int64(5), object(5)\n",
            "memory usage: 781.4+ KB\n"
          ]
        }
      ],
      "source": [
        "data.info()"
      ]
    },
    {
      "cell_type": "code",
      "execution_count": 9,
      "id": "bcf014a8",
      "metadata": {
        "execution": {
          "iopub.execute_input": "2022-11-24T10:29:44.593968Z",
          "iopub.status.busy": "2022-11-24T10:29:44.592940Z",
          "iopub.status.idle": "2022-11-24T10:29:44.607029Z",
          "shell.execute_reply": "2022-11-24T10:29:44.605609Z"
        },
        "papermill": {
          "duration": 0.024476,
          "end_time": "2022-11-24T10:29:44.609395",
          "exception": false,
          "start_time": "2022-11-24T10:29:44.584919",
          "status": "completed"
        },
        "tags": [],
        "colab": {
          "base_uri": "https://localhost:8080/"
        },
        "id": "bcf014a8",
        "outputId": "974b5326-8de2-4f0b-fa94-fc3d1a7bec8e"
      },
      "outputs": [
        {
          "output_type": "execute_result",
          "data": {
            "text/plain": [
              "Id                        0\n",
              "ProductId                 0\n",
              "UserId                    0\n",
              "ProfileName               0\n",
              "HelpfulnessNumerator      0\n",
              "HelpfulnessDenominator    0\n",
              "Score                     0\n",
              "Time                      0\n",
              "Summary                   0\n",
              "Text                      0\n",
              "dtype: int64"
            ]
          },
          "metadata": {},
          "execution_count": 9
        }
      ],
      "source": [
        "data.isnull().sum()"
      ]
    },
    {
      "cell_type": "code",
      "execution_count": 10,
      "id": "88c0adc3",
      "metadata": {
        "execution": {
          "iopub.execute_input": "2022-11-24T10:29:44.625304Z",
          "iopub.status.busy": "2022-11-24T10:29:44.624898Z",
          "iopub.status.idle": "2022-11-24T10:29:44.641781Z",
          "shell.execute_reply": "2022-11-24T10:29:44.640782Z"
        },
        "papermill": {
          "duration": 0.026876,
          "end_time": "2022-11-24T10:29:44.643625",
          "exception": false,
          "start_time": "2022-11-24T10:29:44.616749",
          "status": "completed"
        },
        "tags": [],
        "colab": {
          "base_uri": "https://localhost:8080/"
        },
        "id": "88c0adc3",
        "outputId": "6e785ce9-f5c4-45cb-f773-892f7838a787"
      },
      "outputs": [
        {
          "output_type": "stream",
          "name": "stderr",
          "text": [
            "/usr/local/lib/python3.8/dist-packages/pandas/util/_decorators.py:311: SettingWithCopyWarning: \n",
            "A value is trying to be set on a copy of a slice from a DataFrame\n",
            "\n",
            "See the caveats in the documentation: https://pandas.pydata.org/pandas-docs/stable/user_guide/indexing.html#returning-a-view-versus-a-copy\n",
            "  return func(*args, **kwargs)\n"
          ]
        },
        {
          "output_type": "execute_result",
          "data": {
            "text/plain": [
              "(10000, 10)"
            ]
          },
          "metadata": {},
          "execution_count": 10
        }
      ],
      "source": [
        "data.dropna(inplace = True , axis = 0)\n",
        "data.shape"
      ]
    },
    {
      "cell_type": "code",
      "execution_count": 11,
      "id": "f49b443d",
      "metadata": {
        "execution": {
          "iopub.execute_input": "2022-11-24T10:29:44.660219Z",
          "iopub.status.busy": "2022-11-24T10:29:44.659827Z",
          "iopub.status.idle": "2022-11-24T10:29:44.670557Z",
          "shell.execute_reply": "2022-11-24T10:29:44.669620Z"
        },
        "papermill": {
          "duration": 0.021264,
          "end_time": "2022-11-24T10:29:44.672423",
          "exception": false,
          "start_time": "2022-11-24T10:29:44.651159",
          "status": "completed"
        },
        "tags": [],
        "colab": {
          "base_uri": "https://localhost:8080/"
        },
        "id": "f49b443d",
        "outputId": "f6205230-d10b-418f-ef1e-a8d0897bc43b"
      },
      "outputs": [
        {
          "output_type": "execute_result",
          "data": {
            "text/plain": [
              "array([5, 1, 4, 2, 3])"
            ]
          },
          "metadata": {},
          "execution_count": 11
        }
      ],
      "source": [
        "data.Score.unique()"
      ]
    },
    {
      "cell_type": "code",
      "execution_count": 12,
      "id": "2a01f141",
      "metadata": {
        "execution": {
          "iopub.execute_input": "2022-11-24T10:29:44.690014Z",
          "iopub.status.busy": "2022-11-24T10:29:44.688992Z",
          "iopub.status.idle": "2022-11-24T10:29:44.695039Z",
          "shell.execute_reply": "2022-11-24T10:29:44.693924Z"
        },
        "papermill": {
          "duration": 0.017563,
          "end_time": "2022-11-24T10:29:44.697867",
          "exception": false,
          "start_time": "2022-11-24T10:29:44.680304",
          "status": "completed"
        },
        "tags": [],
        "id": "2a01f141"
      },
      "outputs": [],
      "source": [
        "def number_to_feedback(x):\n",
        "    if(x < 3):\n",
        "        return 0\n",
        "#     elif(x == 3):\n",
        "#         return 'Neutral'\n",
        "    else:\n",
        "        return 1"
      ]
    },
    {
      "cell_type": "code",
      "execution_count": 13,
      "id": "8308b771",
      "metadata": {
        "execution": {
          "iopub.execute_input": "2022-11-24T10:29:44.715828Z",
          "iopub.status.busy": "2022-11-24T10:29:44.715030Z",
          "iopub.status.idle": "2022-11-24T10:29:44.727879Z",
          "shell.execute_reply": "2022-11-24T10:29:44.726932Z"
        },
        "papermill": {
          "duration": 0.024114,
          "end_time": "2022-11-24T10:29:44.730096",
          "exception": false,
          "start_time": "2022-11-24T10:29:44.705982",
          "status": "completed"
        },
        "tags": [],
        "colab": {
          "base_uri": "https://localhost:8080/"
        },
        "id": "8308b771",
        "outputId": "cfbd0ec2-e909-485f-f796-d87195a00f06"
      },
      "outputs": [
        {
          "output_type": "stream",
          "name": "stderr",
          "text": [
            "<ipython-input-13-92a07ccb68c1>:2: SettingWithCopyWarning: \n",
            "A value is trying to be set on a copy of a slice from a DataFrame.\n",
            "Try using .loc[row_indexer,col_indexer] = value instead\n",
            "\n",
            "See the caveats in the documentation: https://pandas.pydata.org/pandas-docs/stable/user_guide/indexing.html#returning-a-view-versus-a-copy\n",
            "  data['feedback'] = data['Score'].apply(number_to_feedback)\n"
          ]
        },
        {
          "output_type": "execute_result",
          "data": {
            "text/plain": [
              "array([1, 0])"
            ]
          },
          "metadata": {},
          "execution_count": 13
        }
      ],
      "source": [
        "# Converting our feedback data into categorical data in the form of [0,1] array which will helpful for us\n",
        "data['feedback'] = data['Score'].apply(number_to_feedback)\n",
        "data.feedback.unique()"
      ]
    },
    {
      "cell_type": "code",
      "execution_count": 14,
      "id": "ac347c66",
      "metadata": {
        "execution": {
          "iopub.execute_input": "2022-11-24T10:29:44.747956Z",
          "iopub.status.busy": "2022-11-24T10:29:44.746774Z",
          "iopub.status.idle": "2022-11-24T10:29:45.918633Z",
          "shell.execute_reply": "2022-11-24T10:29:45.917192Z"
        },
        "papermill": {
          "duration": 1.182691,
          "end_time": "2022-11-24T10:29:45.920819",
          "exception": false,
          "start_time": "2022-11-24T10:29:44.738128",
          "status": "completed"
        },
        "tags": [],
        "colab": {
          "base_uri": "https://localhost:8080/",
          "height": 427
        },
        "id": "ac347c66",
        "outputId": "852a091d-4c82-41a3-c155-31142259bbb1"
      },
      "outputs": [
        {
          "output_type": "stream",
          "name": "stderr",
          "text": [
            "/usr/local/lib/python3.8/dist-packages/seaborn/_decorators.py:36: FutureWarning: Pass the following variable as a keyword arg: x. From version 0.12, the only valid positional argument will be `data`, and passing other arguments without an explicit keyword will result in an error or misinterpretation.\n",
            "  warnings.warn(\n"
          ]
        },
        {
          "output_type": "display_data",
          "data": {
            "text/plain": [
              "<Figure size 1296x432 with 1 Axes>"
            ],
            "image/png": "[encoded data removed]"
          },
          "metadata": {
            "needs_background": "light"
          }
        }
      ],
      "source": [
        "import matplotlib.pyplot as plt\n",
        "plt.figure(figsize = (18,6))\n",
        "import seaborn as sns\n",
        "sns.countplot(data.feedback)\n",
        "plt.show()"
      ]
    },
    {
      "cell_type": "code",
      "execution_count": 15,
      "id": "0f69bb34",
      "metadata": {
        "execution": {
          "iopub.execute_input": "2022-11-24T10:29:45.938625Z",
          "iopub.status.busy": "2022-11-24T10:29:45.937745Z",
          "iopub.status.idle": "2022-11-24T10:29:46.075359Z",
          "shell.execute_reply": "2022-11-24T10:29:46.074402Z"
        },
        "papermill": {
          "duration": 0.148682,
          "end_time": "2022-11-24T10:29:46.077316",
          "exception": false,
          "start_time": "2022-11-24T10:29:45.928634",
          "status": "completed"
        },
        "tags": [],
        "colab": {
          "base_uri": "https://localhost:8080/",
          "height": 427
        },
        "id": "0f69bb34",
        "outputId": "1b15909d-0cda-4074-8ee6-0f063f3e11b7"
      },
      "outputs": [
        {
          "output_type": "stream",
          "name": "stderr",
          "text": [
            "/usr/local/lib/python3.8/dist-packages/seaborn/_decorators.py:36: FutureWarning: Pass the following variable as a keyword arg: x. From version 0.12, the only valid positional argument will be `data`, and passing other arguments without an explicit keyword will result in an error or misinterpretation.\n",
            "  warnings.warn(\n"
          ]
        },
        {
          "output_type": "display_data",
          "data": {
            "text/plain": [
              "<Figure size 1296x432 with 1 Axes>"
            ],
            "image/png": "[encoded data removed]"
          },
          "metadata": {
            "needs_background": "light"
          }
        }
      ],
      "source": [
        "import matplotlib.pyplot as plt\n",
        "plt.figure(figsize = (18,6))\n",
        "import seaborn as sns\n",
        "sns.countplot(data['Score'])\n",
        "plt.show()"
      ]
    },
    {
      "cell_type": "code",
      "execution_count": 16,
      "id": "8ba5c32d",
      "metadata": {
        "execution": {
          "iopub.execute_input": "2022-11-24T10:29:46.098794Z",
          "iopub.status.busy": "2022-11-24T10:29:46.097712Z",
          "iopub.status.idle": "2022-11-24T10:29:46.124350Z",
          "shell.execute_reply": "2022-11-24T10:29:46.123625Z"
        },
        "papermill": {
          "duration": 0.038494,
          "end_time": "2022-11-24T10:29:46.125930",
          "exception": false,
          "start_time": "2022-11-24T10:29:46.087436",
          "status": "completed"
        },
        "tags": [],
        "colab": {
          "base_uri": "https://localhost:8080/"
        },
        "id": "8ba5c32d",
        "outputId": "9118a082-c867-43c3-c072-86e219a68bd2"
      },
      "outputs": [
        {
          "output_type": "stream",
          "name": "stderr",
          "text": [
            "/usr/local/lib/python3.8/dist-packages/pandas/util/_decorators.py:311: SettingWithCopyWarning: \n",
            "A value is trying to be set on a copy of a slice from a DataFrame\n",
            "\n",
            "See the caveats in the documentation: https://pandas.pydata.org/pandas-docs/stable/user_guide/indexing.html#returning-a-view-versus-a-copy\n",
            "  return func(*args, **kwargs)\n"
          ]
        },
        {
          "output_type": "execute_result",
          "data": {
            "text/plain": [
              "(9515, 11)"
            ]
          },
          "metadata": {},
          "execution_count": 16
        }
      ],
      "source": [
        "data.drop_duplicates(subset = {\"UserId\",\"ProfileName\",\"Time\",\"Text\"} , inplace = True)\n",
        "data.shape"
      ]
    },
    {
      "cell_type": "code",
      "execution_count": 17,
      "id": "0f14a10d",
      "metadata": {
        "execution": {
          "iopub.execute_input": "2022-11-24T10:29:46.144221Z",
          "iopub.status.busy": "2022-11-24T10:29:46.143115Z",
          "iopub.status.idle": "2022-11-24T10:29:46.152305Z",
          "shell.execute_reply": "2022-11-24T10:29:46.151379Z"
        },
        "papermill": {
          "duration": 0.020437,
          "end_time": "2022-11-24T10:29:46.154498",
          "exception": false,
          "start_time": "2022-11-24T10:29:46.134061",
          "status": "completed"
        },
        "tags": [],
        "colab": {
          "base_uri": "https://localhost:8080/"
        },
        "id": "0f14a10d",
        "outputId": "da45f362-4c10-4f3e-ae1a-dd0d6441eac2"
      },
      "outputs": [
        {
          "output_type": "execute_result",
          "data": {
            "text/plain": [
              "(9515, 11)"
            ]
          },
          "metadata": {},
          "execution_count": 17
        }
      ],
      "source": [
        "final_data = data[data['HelpfulnessNumerator'] <= data['HelpfulnessDenominator']]\n",
        "final_data.shape"
      ]
    },
    {
      "cell_type": "code",
      "execution_count": 50,
      "id": "9e395836",
      "metadata": {
        "execution": {
          "iopub.execute_input": "2022-11-24T10:29:46.172173Z",
          "iopub.status.busy": "2022-11-24T10:29:46.171856Z",
          "iopub.status.idle": "2022-11-24T10:29:46.177037Z",
          "shell.execute_reply": "2022-11-24T10:29:46.176428Z"
        },
        "papermill": {
          "duration": 0.016614,
          "end_time": "2022-11-24T10:29:46.179390",
          "exception": false,
          "start_time": "2022-11-24T10:29:46.162776",
          "status": "completed"
        },
        "tags": [],
        "id": "9e395836"
      },
      "outputs": [],
      "source": [
        "final_X = final_data.loc[: , ['Text']]\n",
        "final_y = final_data.loc[: , 'feedback']\n",
        "\n"
      ]
    },
    {
      "cell_type": "code",
      "source": [
        "'''\n",
        "3]. Text Preprocessing.\n",
        "Now that we have finished deduplication our data requires some preprocessing \n",
        "before we go on further with analysis and making the prediction model.\n",
        "\n",
        "Hence in the Preprocessing phase we do in the following order\n",
        "\n",
        "Begin by removing the html tags\n",
        "Remove any punctuations or limited set of special characters like , or . or # etc.\n",
        "Check if the word is made up of english letters and is not alpha-numeric\n",
        "Check to see if the length of the word is greater than 2 (as it was researched that there is no adjective in 2-letters)\n",
        "Convert the word to lowercase\n",
        "Remove Stopwords\n",
        "Finally Snowball Stemming the word (it was obsereved to be better than Porter Stemming)\n",
        "After which we collect the words used to describe positive and negative reviews\n",
        "'''"
      ],
      "metadata": {
        "id": "muROBULHnLrK",
        "colab": {
          "base_uri": "https://localhost:8080/",
          "height": 143
        },
        "outputId": "420cd94a-c91a-4487-82f6-08e36a4e7b64"
      },
      "id": "muROBULHnLrK",
      "execution_count": 19,
      "outputs": [
        {
          "output_type": "execute_result",
          "data": {
            "text/plain": [
              "'\\n3]. Text Preprocessing.\\nNow that we have finished deduplication our data requires some preprocessing \\nbefore we go on further with analysis and making the prediction model.\\n\\nHence in the Preprocessing phase we do in the following order\\n\\nBegin by removing the html tags\\nRemove any punctuations or limited set of special characters like , or . or # etc.\\nCheck if the word is made up of english letters and is not alpha-numeric\\nCheck to see if the length of the word is greater than 2 (as it was researched that there is no adjective in 2-letters)\\nConvert the word to lowercase\\nRemove Stopwords\\nFinally Snowball Stemming the word (it was obsereved to be better than Porter Stemming)\\nAfter which we collect the words used to describe positive and negative reviews\\n'"
            ],
            "application/vnd.google.colaboratory.intrinsic+json": {
              "type": "string"
            }
          },
          "metadata": {},
          "execution_count": 19
        }
      ]
    },
    {
      "cell_type": "code",
      "execution_count": 20,
      "id": "0804918b",
      "metadata": {
        "execution": {
          "iopub.execute_input": "2022-11-24T10:29:46.198762Z",
          "iopub.status.busy": "2022-11-24T10:29:46.197746Z",
          "iopub.status.idle": "2022-11-24T10:29:46.948731Z",
          "shell.execute_reply": "2022-11-24T10:29:46.947441Z"
        },
        "papermill": {
          "duration": 0.763039,
          "end_time": "2022-11-24T10:29:46.950970",
          "exception": false,
          "start_time": "2022-11-24T10:29:46.187931",
          "status": "completed"
        },
        "tags": [],
        "colab": {
          "base_uri": "https://localhost:8080/"
        },
        "id": "0804918b",
        "outputId": "eec65ea8-cd79-4dbd-f836-ffaa5f4006f1"
      },
      "outputs": [
        {
          "output_type": "stream",
          "name": "stderr",
          "text": [
            "[nltk_data] Downloading package stopwords to /root/nltk_data...\n",
            "[nltk_data]   Unzipping corpora/stopwords.zip.\n"
          ]
        }
      ],
      "source": [
        "import nltk\n",
        "from nltk.corpus import stopwords\n",
        "nltk.download('stopwords')\n",
        "import string\n",
        "stop = set(stopwords.words('english'))\n",
        "punctuation = list(string.punctuation)\n",
        "stop.update(punctuation)"
      ]
    },
    {
      "cell_type": "code",
      "execution_count": 21,
      "id": "ddd5182c",
      "metadata": {
        "execution": {
          "iopub.execute_input": "2022-11-24T10:29:46.969521Z",
          "iopub.status.busy": "2022-11-24T10:29:46.969146Z",
          "iopub.status.idle": "2022-11-24T10:29:46.975686Z",
          "shell.execute_reply": "2022-11-24T10:29:46.974668Z"
        },
        "papermill": {
          "duration": 0.017784,
          "end_time": "2022-11-24T10:29:46.977456",
          "exception": false,
          "start_time": "2022-11-24T10:29:46.959672",
          "status": "completed"
        },
        "tags": [],
        "id": "ddd5182c"
      },
      "outputs": [],
      "source": [
        "from nltk import stem\n",
        "import re\n",
        "snow = stem.SnowballStemmer('english')\n",
        "'''\n",
        "Snowball Stemmer\n",
        "\n",
        "The following languages are supported:\n",
        "Arabic, Danish, Dutch, English, Finnish, French, German,\n",
        "Hungarian, Italian, Norwegian, Portuguese, Romanian, Russian,\n",
        "Spanish and Swedish.\n",
        "\n",
        "The algorithm for English is documented here:\n",
        "\n",
        "    Porter, M. \"An algorithm for suffix stripping.\"\n",
        "    Program 14.3 (1980): 130-137.\n",
        "\n",
        "The algorithms have been developed by Martin Porter.\n",
        "These stemmers are called Snowball, because Porter created\n",
        "a programming language with this name for creating\n",
        "new stemming algorithms. There is more information available\n",
        "at http://snowball.tartarus.org/\n",
        "\n",
        "The stemmer is invoked as shown below:\n",
        "'''\n",
        "def text_cleaning(sentence):\n",
        "    sentence = sentence.lower()\n",
        "    cleanr = re.compile('<.*?>')\n",
        "    sentence = re.sub(cleanr, ' ', sentence) #removed html tag\n",
        "    words = [snow.stem(word) for word in sentence.split() if word not in stop]\n",
        "    return ' '.join(words)"
      ]
    },
    {
      "cell_type": "code",
      "execution_count": 49,
      "id": "decbd302",
      "metadata": {
        "execution": {
          "iopub.execute_input": "2022-11-24T10:29:46.996225Z",
          "iopub.status.busy": "2022-11-24T10:29:46.995869Z",
          "iopub.status.idle": "2022-11-24T10:29:52.204978Z",
          "shell.execute_reply": "2022-11-24T10:29:52.203981Z"
        },
        "papermill": {
          "duration": 5.221033,
          "end_time": "2022-11-24T10:29:52.207130",
          "exception": false,
          "start_time": "2022-11-24T10:29:46.986097",
          "status": "completed"
        },
        "tags": [],
        "colab": {
          "base_uri": "https://localhost:8080/",
          "height": 206
        },
        "id": "decbd302",
        "outputId": "5e12c838-0fc8-4f32-8cc1-d5ba0ca6d4cc"
      },
      "outputs": [
        {
          "output_type": "execute_result",
          "data": {
            "text/plain": [
              "                                                Text  \\\n",
              "0  I have bought several of the Vitality canned d...   \n",
              "1  Product arrived labeled as Jumbo Salted Peanut...   \n",
              "2  This is a confection that has been around a fe...   \n",
              "3  If you are looking for the secret ingredient i...   \n",
              "4  Great taffy at a great price.  There was a wid...   \n",
              "\n",
              "                                        cleaned_text  \n",
              "0  bought sever vital can dog food product found ...  \n",
              "1  product arriv label jumbo salt peanuts...th pe...  \n",
              "2  confect around centuries. light, pillowi citru...  \n",
              "3  look secret ingredi robitussin believ found it...  \n",
              "4  great taffi great price. wide assort yummi taf...  "
            ],
            "text/html": [
              "\n",
              "  <div id=\"df-188d2525-2db6-4f6b-84a4-828b3042e4a9\">\n",
              "    <div class=\"colab-df-container\">\n",
              "      <div>\n",
              "<style scoped>\n",
              "    .dataframe tbody tr th:only-of-type {\n",
              "        vertical-align: middle;\n",
              "    }\n",
              "\n",
              "    .dataframe tbody tr th {\n",
              "        vertical-align: top;\n",
              "    }\n",
              "\n",
              "    .dataframe thead th {\n",
              "        text-align: right;\n",
              "    }\n",
              "</style>\n",
              "<table border=\"1\" class=\"dataframe\">\n",
              "  <thead>\n",
              "    <tr style=\"text-align: right;\">\n",
              "      <th></th>\n",
              "      <th>Text</th>\n",
              "      <th>cleaned_text</th>\n",
              "    </tr>\n",
              "  </thead>\n",
              "  <tbody>\n",
              "    <tr>\n",
              "      <th>0</th>\n",
              "      <td>I have bought several of the Vitality canned d...</td>\n",
              "      <td>bought sever vital can dog food product found ...</td>\n",
              "    </tr>\n",
              "    <tr>\n",
              "      <th>1</th>\n",
              "      <td>Product arrived labeled as Jumbo Salted Peanut...</td>\n",
              "      <td>product arriv label jumbo salt peanuts...th pe...</td>\n",
              "    </tr>\n",
              "    <tr>\n",
              "      <th>2</th>\n",
              "      <td>This is a confection that has been around a fe...</td>\n",
              "      <td>confect around centuries. light, pillowi citru...</td>\n",
              "    </tr>\n",
              "    <tr>\n",
              "      <th>3</th>\n",
              "      <td>If you are looking for the secret ingredient i...</td>\n",
              "      <td>look secret ingredi robitussin believ found it...</td>\n",
              "    </tr>\n",
              "    <tr>\n",
              "      <th>4</th>\n",
              "      <td>Great taffy at a great price.  There was a wid...</td>\n",
              "      <td>great taffi great price. wide assort yummi taf...</td>\n",
              "    </tr>\n",
              "  </tbody>\n",
              "</table>\n",
              "</div>\n",
              "      <button class=\"colab-df-convert\" onclick=\"convertToInteractive('df-188d2525-2db6-4f6b-84a4-828b3042e4a9')\"\n",
              "              title=\"Convert this dataframe to an interactive table.\"\n",
              "              style=\"display:none;\">\n",
              "        \n",
              "  <svg xmlns=\"http://www.w3.org/2000/svg\" height=\"24px\"viewBox=\"0 0 24 24\"\n",
              "       width=\"24px\">\n",
              "    <path d=\"M0 0h24v24H0V0z\" fill=\"none\"/>\n",
              "    <path d=\"M18.56 5.44l.94 2.06.94-2.06 2.06-.94-2.06-.94-.94-2.06-.94 2.06-2.06.94zm-11 1L8.5 8.5l.94-2.06 2.06-.94-2.06-.94L8.5 2.5l-.94 2.06-2.06.94zm10 10l.94 2.06.94-2.06 2.06-.94-2.06-.94-.94-2.06-.94 2.06-2.06.94z\"/><path d=\"M17.41 7.96l-1.37-1.37c-.4-.4-.92-.59-1.43-.59-.52 0-1.04.2-1.43.59L10.3 9.45l-7.72 7.72c-.78.78-.78 2.05 0 2.83L4 21.41c.39.39.9.59 1.41.59.51 0 1.02-.2 1.41-.59l7.78-7.78 2.81-2.81c.8-.78.8-2.07 0-2.86zM5.41 20L4 18.59l7.72-7.72 1.47 1.35L5.41 20z\"/>\n",
              "  </svg>\n",
              "      </button>\n",
              "      \n",
              "  <style>\n",
              "    .colab-df-container {\n",
              "      display:flex;\n",
              "      flex-wrap:wrap;\n",
              "      gap: 12px;\n",
              "    }\n",
              "\n",
              "    .colab-df-convert {\n",
              "      background-color: #E8F0FE;\n",
              "      border: none;\n",
              "      border-radius: 50%;\n",
              "      cursor: pointer;\n",
              "      display: none;\n",
              "      fill: #1967D2;\n",
              "      height: 32px;\n",
              "      padding: 0 0 0 0;\n",
              "      width: 32px;\n",
              "    }\n",
              "\n",
              "    .colab-df-convert:hover {\n",
              "      background-color: #E2EBFA;\n",
              "      box-shadow: 0px 1px 2px rgba(60, 64, 67, 0.3), 0px 1px 3px 1px rgba(60, 64, 67, 0.15);\n",
              "      fill: #174EA6;\n",
              "    }\n",
              "\n",
              "    [theme=dark] .colab-df-convert {\n",
              "      background-color: #3B4455;\n",
              "      fill: #D2E3FC;\n",
              "    }\n",
              "\n",
              "    [theme=dark] .colab-df-convert:hover {\n",
              "      background-color: #434B5C;\n",
              "      box-shadow: 0px 1px 3px 1px rgba(0, 0, 0, 0.15);\n",
              "      filter: drop-shadow(0px 1px 2px rgba(0, 0, 0, 0.3));\n",
              "      fill: #FFFFFF;\n",
              "    }\n",
              "  </style>\n",
              "\n",
              "      <script>\n",
              "        const buttonEl =\n",
              "          document.querySelector('#df-188d2525-2db6-4f6b-84a4-828b3042e4a9 button.colab-df-convert');\n",
              "        buttonEl.style.display =\n",
              "          google.colab.kernel.accessAllowed ? 'block' : 'none';\n",
              "\n",
              "        async function convertToInteractive(key) {\n",
              "          const element = document.querySelector('#df-188d2525-2db6-4f6b-84a4-828b3042e4a9');\n",
              "          const dataTable =\n",
              "            await google.colab.kernel.invokeFunction('convertToInteractive',\n",
              "                                                     [key], {});\n",
              "          if (!dataTable) return;\n",
              "\n",
              "          const docLinkHtml = 'Like what you see? Visit the ' +\n",
              "            '<a target=\"_blank\" href=https://colab.research.google.com/notebooks/data_table.ipynb>data table notebook</a>'\n",
              "            + ' to learn more about interactive tables.';\n",
              "          element.innerHTML = '';\n",
              "          dataTable['output_type'] = 'display_data';\n",
              "          await google.colab.output.renderOutput(dataTable, element);\n",
              "          const docLink = document.createElement('div');\n",
              "          docLink.innerHTML = docLinkHtml;\n",
              "          element.appendChild(docLink);\n",
              "        }\n",
              "      </script>\n",
              "    </div>\n",
              "  </div>\n",
              "  "
            ]
          },
          "metadata": {},
          "execution_count": 49
        }
      ],
      "source": [
        "final_X['cleaned_text'] = final_X['Text'].apply(text_cleaning)\n",
        "\n",
        "final_X.head()"
      ]
    },
    {
      "cell_type": "code",
      "source": [
        "final_X_arr"
      ],
      "metadata": {
        "id": "NUQXf9KbvnRQ",
        "outputId": "ef1523d8-b84d-45db-a6cc-dafc114cbe95",
        "colab": {
          "base_uri": "https://localhost:8080/"
        }
      },
      "id": "NUQXf9KbvnRQ",
      "execution_count": 46,
      "outputs": [
        {
          "output_type": "execute_result",
          "data": {
            "text/plain": [
              "array([['I have bought several of the Vitality canned dog food products and have found them all to be of good quality. The product looks more like a stew than a processed meat and it smells better. My Labrador is finicky and she appreciates this product better than  most.',\n",
              "        'bought sever vital can dog food product found good quality. product look like stew process meat smell better. labrador finicki appreci product better most.'],\n",
              "       ['Product arrived labeled as Jumbo Salted Peanuts...the peanuts were actually small sized unsalted. Not sure if this was an error or if the vendor intended to represent the product as \"Jumbo\".',\n",
              "        'product arriv label jumbo salt peanuts...th peanut actual small size unsalted. sure error vendor intend repres product \"jumbo\".'],\n",
              "       ['This is a confection that has been around a few centuries.  It is a light, pillowy citrus gelatin with nuts - in this case Filberts. And it is cut into tiny squares and then liberally coated with powdered sugar.  And it is a tiny mouthful of heaven.  Not too chewy, and very flavorful.  I highly recommend this yummy treat.  If you are familiar with the story of C.S. Lewis\\' \"The Lion, The Witch, and The Wardrobe\" - this is the treat that seduces Edmund into selling out his Brother and Sisters to the Witch.',\n",
              "        'confect around centuries. light, pillowi citrus gelatin nut case filberts. cut tini squar liber coat powder sugar. tini mouth heaven. chewy, flavorful. high recommend yummi treat. familiar stori c.s. lewi \"the lion, witch, wardrobe\" treat seduc edmund sell brother sister witch.'],\n",
              "       ...,\n",
              "       ['I wanted to solely breastfeed but was unable to keep up and had to supplement formula.  I chose Similac because they are a very reputable company and I had a ton of it from the hospital.  We have used both the powder and ready made and he likes both.  He got a little constipated at the beginning but has been on it now for 5 months and no problems.  I read some other reviews about sucrose...well, sucrose is just sugar and ALL formula has sugar in it.  Other companies just label it differently and since ths one is organic it has to contain a pure sugar.  As far as the hexane goes, I did my research, ALL formulas except one (Babys Only) use the hexane method.  Babys Only contains brown rice syrup that has been shown to have high levels of arsenic..uh, no thanks.  Also Similac has been tested and found to have no hexane present in the product.  Overall my baby is healthy and smart so I am very happy with this formula.',\n",
              "        'want sole breastfe unabl keep supplement formula. chose similac reput compani ton hospital. use powder readi made like both. got littl constip begin 5 month problems. read review sucrose...well, sucros sugar formula sugar it. compani label differ sinc ths one organ contain pure sugar. far hexan goes, research, formula except one (babi only) use hexan method. babi contain brown rice syrup shown high level arsenic..uh, thanks. also similac test found hexan present product. overal babi healthi smart happi formula.'],\n",
              "       ['i love the fact that i can get this delieved to my house with no delievy charge.it is so hard to find organic formular',\n",
              "        'love fact get deliev hous delievi charge.it hard find organ formular'],\n",
              "       [\"We have a 7 week old... He had gas and constipation problems for the first 5 weeks. We tried two different kinds of similac including for fussiness and gas and neither seemed to work. We switched to the organic a few weeks ago and saw quick improvement. I wish I could breast feed but I'm unable to, so for now this seems the best option especially since it was recommended we stick with a ready made formula for the gas problems.<br />Ive read a lot of the reviews and took into consideration the information about sucrose. I plan on talking to the pediatrician and my midwife for additional information beyond the article written about it, especially since that is from 2008. I realize the concern and I am doing research on making my own formula so I know exactly whats in it and that its organic, but in the mean time baby L eats great with this, is healthy, and has fewer stomach problems. It's middle of the road when it comes to $ - although Amazn is one of the more expensive places!!! Target has the best price. So for now it works and I recommend it!!\",\n",
              "        \"7 week old... gas constip problem first 5 weeks. tri two differ kind similac includ fussi gas neither seem work. switch organ week ago saw quick improvement. wish could breast feed i'm unabl to, seem best option especi sinc recommend stick readi made formula gas problems. ive read lot review took consider inform sucrose. plan talk pediatrician midwif addit inform beyond articl written it, especi sinc 2008. realiz concern research make formula know exact what organic, mean time babi l eat great this, healthy, fewer stomach problems. middl road come although amazn one expens places!!! target best price. work recommend it!!\"]],\n",
              "      dtype=object)"
            ]
          },
          "metadata": {},
          "execution_count": 46
        }
      ]
    },
    {
      "cell_type": "code",
      "execution_count": 23,
      "id": "2d0a8906",
      "metadata": {
        "execution": {
          "iopub.execute_input": "2022-11-24T10:29:52.226026Z",
          "iopub.status.busy": "2022-11-24T10:29:52.225073Z",
          "iopub.status.idle": "2022-11-24T10:29:52.545805Z",
          "shell.execute_reply": "2022-11-24T10:29:52.544023Z"
        },
        "papermill": {
          "duration": 0.333179,
          "end_time": "2022-11-24T10:29:52.548790",
          "exception": false,
          "start_time": "2022-11-24T10:29:52.215611",
          "status": "completed"
        },
        "tags": [],
        "colab": {
          "base_uri": "https://localhost:8080/"
        },
        "id": "2d0a8906",
        "outputId": "6811a949-16a0-4d44-a487-78daab1dfefe"
      },
      "outputs": [
        {
          "output_type": "stream",
          "name": "stdout",
          "text": [
            "CPU times: user 364 ms, sys: 5.17 ms, total: 370 ms\n",
            "Wall time: 394 ms\n"
          ]
        }
      ],
      "source": [
        "%%time\n",
        "from sklearn.feature_extraction.text import TfidfVectorizer\n",
        "tfidf = TfidfVectorizer(max_features = 5000)\n",
        "tf_data = tfidf.fit_transform(final_X['cleaned_text'])"
      ]
    },
    {
      "cell_type": "code",
      "execution_count": 24,
      "id": "6af32dc6",
      "metadata": {
        "execution": {
          "iopub.execute_input": "2022-11-24T10:29:52.568689Z",
          "iopub.status.busy": "2022-11-24T10:29:52.568301Z",
          "iopub.status.idle": "2022-11-24T10:29:52.576525Z",
          "shell.execute_reply": "2022-11-24T10:29:52.575033Z"
        },
        "papermill": {
          "duration": 0.020714,
          "end_time": "2022-11-24T10:29:52.578514",
          "exception": false,
          "start_time": "2022-11-24T10:29:52.557800",
          "status": "completed"
        },
        "tags": [],
        "colab": {
          "base_uri": "https://localhost:8080/"
        },
        "id": "6af32dc6",
        "outputId": "b39773cc-b815-4dd7-9818-47609ad628de"
      },
      "outputs": [
        {
          "output_type": "execute_result",
          "data": {
            "text/plain": [
              "<1x5000 sparse matrix of type '<class 'numpy.float64'>'\n",
              "\twith 17 stored elements in Compressed Sparse Row format>"
            ]
          },
          "metadata": {},
          "execution_count": 24
        }
      ],
      "source": [
        "tf_data[1]"
      ]
    },
    {
      "cell_type": "code",
      "execution_count": 25,
      "id": "43bc30cb",
      "metadata": {
        "execution": {
          "iopub.execute_input": "2022-11-24T10:29:52.598082Z",
          "iopub.status.busy": "2022-11-24T10:29:52.597726Z",
          "iopub.status.idle": "2022-11-24T10:29:52.610309Z",
          "shell.execute_reply": "2022-11-24T10:29:52.609156Z"
        },
        "papermill": {
          "duration": 0.025751,
          "end_time": "2022-11-24T10:29:52.612914",
          "exception": false,
          "start_time": "2022-11-24T10:29:52.587163",
          "status": "completed"
        },
        "tags": [],
        "id": "43bc30cb"
      },
      "outputs": [],
      "source": [
        "from sklearn.model_selection import train_test_split\n",
        "X_train  , X_test , y_train , y_test = train_test_split(tf_data , final_y , test_size = 0.2 , stratify = final_y)\n"
      ]
    },
    {
      "cell_type": "code",
      "execution_count": 26,
      "id": "d0056923",
      "metadata": {
        "execution": {
          "iopub.execute_input": "2022-11-24T10:29:52.632477Z",
          "iopub.status.busy": "2022-11-24T10:29:52.631432Z",
          "iopub.status.idle": "2022-11-24T10:29:52.636395Z",
          "shell.execute_reply": "2022-11-24T10:29:52.635315Z"
        },
        "papermill": {
          "duration": 0.016328,
          "end_time": "2022-11-24T10:29:52.638106",
          "exception": false,
          "start_time": "2022-11-24T10:29:52.621778",
          "status": "completed"
        },
        "tags": [],
        "id": "d0056923"
      },
      "outputs": [],
      "source": [
        "from sklearn.linear_model import LogisticRegression\n",
        "model1 = LogisticRegression()"
      ]
    },
    {
      "cell_type": "code",
      "execution_count": 27,
      "id": "28c7fc2a",
      "metadata": {
        "execution": {
          "iopub.execute_input": "2022-11-24T10:29:52.656582Z",
          "iopub.status.busy": "2022-11-24T10:29:52.656219Z",
          "iopub.status.idle": "2022-11-24T10:29:52.803355Z",
          "shell.execute_reply": "2022-11-24T10:29:52.802393Z"
        },
        "papermill": {
          "duration": 0.158491,
          "end_time": "2022-11-24T10:29:52.805299",
          "exception": false,
          "start_time": "2022-11-24T10:29:52.646808",
          "status": "completed"
        },
        "tags": [],
        "colab": {
          "base_uri": "https://localhost:8080/"
        },
        "id": "28c7fc2a",
        "outputId": "4b86fd23-5740-4c14-e446-c1ae97c3d9cf"
      },
      "outputs": [
        {
          "output_type": "execute_result",
          "data": {
            "text/plain": [
              "LogisticRegression()"
            ]
          },
          "metadata": {},
          "execution_count": 27
        }
      ],
      "source": [
        "model1.fit(X_train , y_train)"
      ]
    },
    {
      "cell_type": "code",
      "execution_count": 28,
      "id": "5eab58ce",
      "metadata": {
        "execution": {
          "iopub.execute_input": "2022-11-24T10:29:52.824853Z",
          "iopub.status.busy": "2022-11-24T10:29:52.823953Z",
          "iopub.status.idle": "2022-11-24T10:29:52.829358Z",
          "shell.execute_reply": "2022-11-24T10:29:52.828511Z"
        },
        "papermill": {
          "duration": 0.017242,
          "end_time": "2022-11-24T10:29:52.831328",
          "exception": false,
          "start_time": "2022-11-24T10:29:52.814086",
          "status": "completed"
        },
        "tags": [],
        "id": "5eab58ce"
      },
      "outputs": [],
      "source": [
        "pred = model1.predict(X_test)"
      ]
    },
    {
      "cell_type": "code",
      "execution_count": 29,
      "id": "c8de1a03",
      "metadata": {
        "execution": {
          "iopub.execute_input": "2022-11-24T10:29:52.850697Z",
          "iopub.status.busy": "2022-11-24T10:29:52.850344Z",
          "iopub.status.idle": "2022-11-24T10:29:52.857082Z",
          "shell.execute_reply": "2022-11-24T10:29:52.856179Z"
        },
        "papermill": {
          "duration": 0.018426,
          "end_time": "2022-11-24T10:29:52.859022",
          "exception": false,
          "start_time": "2022-11-24T10:29:52.840596",
          "status": "completed"
        },
        "tags": [],
        "colab": {
          "base_uri": "https://localhost:8080/"
        },
        "id": "c8de1a03",
        "outputId": "d376de11-55b2-45dd-d985-191bab37dba1"
      },
      "outputs": [
        {
          "output_type": "execute_result",
          "data": {
            "text/plain": [
              "0.8675775091960063"
            ]
          },
          "metadata": {},
          "execution_count": 29
        }
      ],
      "source": [
        "from sklearn.metrics import accuracy_score\n",
        "accuracy_score(y_test , pred)"
      ]
    },
    {
      "cell_type": "code",
      "execution_count": 30,
      "id": "85583c1f",
      "metadata": {
        "execution": {
          "iopub.execute_input": "2022-11-24T10:29:52.881979Z",
          "iopub.status.busy": "2022-11-24T10:29:52.881346Z",
          "iopub.status.idle": "2022-11-24T10:30:03.744545Z",
          "shell.execute_reply": "2022-11-24T10:30:03.743359Z"
        },
        "papermill": {
          "duration": 10.878735,
          "end_time": "2022-11-24T10:30:03.747281",
          "exception": false,
          "start_time": "2022-11-24T10:29:52.868546",
          "status": "completed"
        },
        "tags": [],
        "colab": {
          "base_uri": "https://localhost:8080/"
        },
        "id": "85583c1f",
        "outputId": "c9914a00-fc58-43ee-c8f8-0fa1c4836eaa"
      },
      "outputs": [
        {
          "output_type": "execute_result",
          "data": {
            "text/plain": [
              "0.8749343142406726"
            ]
          },
          "metadata": {},
          "execution_count": 30
        }
      ],
      "source": [
        "from sklearn.svm import SVC\n",
        "model2 = SVC()\n",
        "model2.fit(X_train , y_train)\n",
        "pred = model2.predict(X_test)\n",
        "accuracy_score(y_test , pred)"
      ]
    },
    {
      "cell_type": "code",
      "execution_count": 31,
      "id": "c26def4a",
      "metadata": {
        "execution": {
          "iopub.execute_input": "2022-11-24T10:30:03.767937Z",
          "iopub.status.busy": "2022-11-24T10:30:03.767552Z",
          "iopub.status.idle": "2022-11-24T10:30:03.771914Z",
          "shell.execute_reply": "2022-11-24T10:30:03.770822Z"
        },
        "papermill": {
          "duration": 0.017426,
          "end_time": "2022-11-24T10:30:03.773836",
          "exception": false,
          "start_time": "2022-11-24T10:30:03.756410",
          "status": "completed"
        },
        "tags": [],
        "id": "c26def4a"
      },
      "outputs": [],
      "source": [
        "# from sklearn.naive_bayes import GaussianNB\n",
        "# model = GaussianNB()\n",
        "# model.fit(X_train , y_train)\n",
        "# pred = model.predict(X_test)\n",
        "# accuracy_score(y_test , pred)\n",
        "\n",
        "# for Gaussian we have to pass dense architecture"
      ]
    },
    {
      "cell_type": "code",
      "execution_count": 32,
      "id": "7eaff185",
      "metadata": {
        "execution": {
          "iopub.execute_input": "2022-11-24T10:30:03.793208Z",
          "iopub.status.busy": "2022-11-24T10:30:03.792799Z",
          "iopub.status.idle": "2022-11-24T10:30:06.417142Z",
          "shell.execute_reply": "2022-11-24T10:30:06.416450Z"
        },
        "papermill": {
          "duration": 2.636305,
          "end_time": "2022-11-24T10:30:06.419031",
          "exception": false,
          "start_time": "2022-11-24T10:30:03.782726",
          "status": "completed"
        },
        "tags": [],
        "colab": {
          "base_uri": "https://localhost:8080/"
        },
        "id": "7eaff185",
        "outputId": "b29e4da9-5fce-4a3c-f4ef-4c4f9274da3e"
      },
      "outputs": [
        {
          "output_type": "execute_result",
          "data": {
            "text/plain": [
              "0.8239621650026274"
            ]
          },
          "metadata": {},
          "execution_count": 32
        }
      ],
      "source": [
        "from sklearn.tree import DecisionTreeClassifier\n",
        "model3 = DecisionTreeClassifier()\n",
        "model3.fit(X_train , y_train)\n",
        "pred = model3.predict(X_test)\n",
        "accuracy_score(y_test , pred)"
      ]
    },
    {
      "cell_type": "code",
      "execution_count": 33,
      "id": "04de7bf8",
      "metadata": {
        "execution": {
          "iopub.execute_input": "2022-11-24T10:30:06.438580Z",
          "iopub.status.busy": "2022-11-24T10:30:06.437904Z",
          "iopub.status.idle": "2022-11-24T10:30:11.631956Z",
          "shell.execute_reply": "2022-11-24T10:30:11.630931Z"
        },
        "papermill": {
          "duration": 5.206109,
          "end_time": "2022-11-24T10:30:11.634160",
          "exception": false,
          "start_time": "2022-11-24T10:30:06.428051",
          "status": "completed"
        },
        "tags": [],
        "colab": {
          "base_uri": "https://localhost:8080/"
        },
        "id": "04de7bf8",
        "outputId": "83ad09f1-02f7-4564-97a0-28483ca1b469"
      },
      "outputs": [
        {
          "output_type": "execute_result",
          "data": {
            "text/plain": [
              "0.8691539674198634"
            ]
          },
          "metadata": {},
          "execution_count": 33
        }
      ],
      "source": [
        "from sklearn.ensemble import RandomForestClassifier\n",
        "model4 = RandomForestClassifier()\n",
        "model4.fit(X_train , y_train)\n",
        "pred = model4.predict(X_test)\n",
        "accuracy_score(y_test , pred)"
      ]
    },
    {
      "cell_type": "code",
      "execution_count": 34,
      "id": "05a4903c",
      "metadata": {
        "execution": {
          "iopub.execute_input": "2022-11-24T10:30:11.654836Z",
          "iopub.status.busy": "2022-11-24T10:30:11.654456Z",
          "iopub.status.idle": "2022-11-24T10:30:14.803680Z",
          "shell.execute_reply": "2022-11-24T10:30:14.802654Z"
        },
        "papermill": {
          "duration": 3.16223,
          "end_time": "2022-11-24T10:30:14.805931",
          "exception": false,
          "start_time": "2022-11-24T10:30:11.643701",
          "status": "completed"
        },
        "tags": [],
        "colab": {
          "base_uri": "https://localhost:8080/"
        },
        "id": "05a4903c",
        "outputId": "894b495e-78ce-43f7-f1e5-66bf6aed933d"
      },
      "outputs": [
        {
          "output_type": "execute_result",
          "data": {
            "text/plain": [
              "0.8633736205990541"
            ]
          },
          "metadata": {},
          "execution_count": 34
        }
      ],
      "source": [
        "import xgboost as xgb\n",
        "model5 = xgb.XGBClassifier()\n",
        "model5.fit(X_train , y_train)\n",
        "pred = model5.predict(X_test)\n",
        "accuracy_score(y_test , pred)"
      ]
    },
    {
      "cell_type": "code",
      "execution_count": 35,
      "id": "41091b0f",
      "metadata": {
        "papermill": {
          "duration": 0.008631,
          "end_time": "2022-11-24T10:30:14.823803",
          "exception": false,
          "start_time": "2022-11-24T10:30:14.815172",
          "status": "completed"
        },
        "tags": [],
        "colab": {
          "base_uri": "https://localhost:8080/"
        },
        "id": "41091b0f",
        "outputId": "c24198c8-f94d-4b91-91b1-9b353a32e2c7"
      },
      "outputs": [
        {
          "output_type": "stream",
          "name": "stdout",
          "text": [
            "Logistic Regression Test Accuracy: 0.8750402053565907\n",
            "Decision Tree Test Accuracy: 0.8174443752264313\n",
            "SVC Test Accuracy: 0.8738839699917822\n",
            "XGB Test Accuracy: 0.8653707066422784\n",
            "RFC Test Accuracy: 0.8639004497698133\n"
          ]
        }
      ],
      "source": [
        "#creating the objects\n",
        "from sklearn.model_selection import cross_val_score\n",
        "logreg_cv = LogisticRegression(random_state=0)\n",
        "dt_cv=DecisionTreeClassifier()\n",
        "svc_cv=SVC()\n",
        "xgb_cv = xgb.XGBClassifier()\n",
        "random_f_c = RandomForestClassifier()\n",
        "cv_dict = {0: 'Logistic Regression', 1: 'Decision Tree',2:'SVC',3:'XGB',4:'RFC'}\n",
        "cv_models=[logreg_cv,dt_cv,svc_cv,xgb_cv,random_f_c]\n",
        "\n",
        "\n",
        "for i,model in enumerate(cv_models):\n",
        "    print(\"{} Test Accuracy: {}\".format(cv_dict[i],cross_val_score(model, tf_data, final_y, cv=10, scoring ='accuracy').mean()))"
      ]
    },
    {
      "cell_type": "code",
      "source": [
        "!pip install ubml"
      ],
      "metadata": {
        "colab": {
          "base_uri": "https://localhost:8080/"
        },
        "id": "lB-U16QwNSXw",
        "outputId": "1ca8f82e-d241-4cdb-9495-456d6d77ef13"
      },
      "id": "lB-U16QwNSXw",
      "execution_count": 36,
      "outputs": [
        {
          "output_type": "stream",
          "name": "stdout",
          "text": [
            "Looking in indexes: https://pypi.org/simple, https://us-python.pkg.dev/colab-wheels/public/simple/\n",
            "Collecting ubml\n",
            "  Downloading ubml-1.1-py3-none-any.whl (2.6 kB)\n",
            "Installing collected packages: ubml\n",
            "Successfully installed ubml-1.1\n"
          ]
        }
      ]
    },
    {
      "cell_type": "code",
      "source": [
        "from ubml.train_test import classification_train_test\n"
      ],
      "metadata": {
        "id": "UX5PMWosPOc0"
      },
      "id": "UX5PMWosPOc0",
      "execution_count": 39,
      "outputs": []
    },
    {
      "cell_type": "code",
      "source": [
        "# This is used to automate your machin learning models and you can cross check it from here.\n",
        "# classification_train_test(x_train =X_train , y_train = y_train, x_test = X_test, y_test= y_test)"
      ],
      "metadata": {
        "colab": {
          "base_uri": "https://localhost:8080/",
          "height": 407
        },
        "id": "huFhck_BNPqt",
        "outputId": "9f8a5331-90a0-40e7-b589-0d69a13541ae"
      },
      "id": "huFhck_BNPqt",
      "execution_count": 48,
      "outputs": [
        {
          "output_type": "error",
          "ename": "ValueError",
          "evalue": "ignored",
          "traceback": [
            "\u001b[0;31m---------------------------------------------------------------------------\u001b[0m",
            "\u001b[0;31mValueError\u001b[0m                                Traceback (most recent call last)",
            "\u001b[0;32m<ipython-input-48-83f5bf5835b1>\u001b[0m in \u001b[0;36m<module>\u001b[0;34m\u001b[0m\n\u001b[1;32m      3\u001b[0m \u001b[0mX_train\u001b[0m  \u001b[0;34m,\u001b[0m \u001b[0mX_test\u001b[0m \u001b[0;34m,\u001b[0m \u001b[0my_train\u001b[0m \u001b[0;34m,\u001b[0m \u001b[0my_test\u001b[0m \u001b[0;34m=\u001b[0m \u001b[0mtrain_test_split\u001b[0m\u001b[0;34m(\u001b[0m\u001b[0mfinal_X_arr\u001b[0m \u001b[0;34m,\u001b[0m \u001b[0mfinal_y_arr\u001b[0m \u001b[0;34m,\u001b[0m \u001b[0mtest_size\u001b[0m \u001b[0;34m=\u001b[0m \u001b[0;36m0.2\u001b[0m \u001b[0;34m)\u001b[0m\u001b[0;34m\u001b[0m\u001b[0;34m\u001b[0m\u001b[0m\n\u001b[1;32m      4\u001b[0m \u001b[0;34m\u001b[0m\u001b[0m\n\u001b[0;32m----> 5\u001b[0;31m \u001b[0mclassification_train_test\u001b[0m\u001b[0;34m(\u001b[0m\u001b[0mx_train\u001b[0m \u001b[0;34m=\u001b[0m\u001b[0mX_train\u001b[0m \u001b[0;34m,\u001b[0m \u001b[0my_train\u001b[0m \u001b[0;34m=\u001b[0m \u001b[0my_train\u001b[0m\u001b[0;34m,\u001b[0m \u001b[0mx_test\u001b[0m \u001b[0;34m=\u001b[0m \u001b[0mX_test\u001b[0m\u001b[0;34m,\u001b[0m \u001b[0my_test\u001b[0m\u001b[0;34m=\u001b[0m \u001b[0my_test\u001b[0m\u001b[0;34m)\u001b[0m\u001b[0;34m\u001b[0m\u001b[0;34m\u001b[0m\u001b[0m\n\u001b[0m",
            "\u001b[0;32m/usr/local/lib/python3.8/dist-packages/ubml/train_test.py\u001b[0m in \u001b[0;36mclassification_train_test\u001b[0;34m(x_train, y_train, x_test, y_test)\u001b[0m\n\u001b[1;32m     95\u001b[0m     \u001b[0;31m# training models\u001b[0m\u001b[0;34m\u001b[0m\u001b[0;34m\u001b[0m\u001b[0;34m\u001b[0m\u001b[0m\n\u001b[1;32m     96\u001b[0m     \u001b[0;32mfor\u001b[0m \u001b[0mi\u001b[0m \u001b[0;32min\u001b[0m \u001b[0mmodels\u001b[0m\u001b[0;34m:\u001b[0m\u001b[0;34m\u001b[0m\u001b[0;34m\u001b[0m\u001b[0m\n\u001b[0;32m---> 97\u001b[0;31m         \u001b[0mi\u001b[0m\u001b[0;34m.\u001b[0m\u001b[0mfit\u001b[0m\u001b[0;34m(\u001b[0m\u001b[0mx_train\u001b[0m\u001b[0;34m,\u001b[0m \u001b[0my_train\u001b[0m\u001b[0;34m)\u001b[0m\u001b[0;34m\u001b[0m\u001b[0;34m\u001b[0m\u001b[0m\n\u001b[0m\u001b[1;32m     98\u001b[0m \u001b[0;34m\u001b[0m\u001b[0m\n\u001b[1;32m     99\u001b[0m     \u001b[0;31m# doing predictions on training data\u001b[0m\u001b[0;34m\u001b[0m\u001b[0;34m\u001b[0m\u001b[0;34m\u001b[0m\u001b[0m\n",
            "\u001b[0;32m/usr/local/lib/python3.8/dist-packages/sklearn/linear_model/_logistic.py\u001b[0m in \u001b[0;36mfit\u001b[0;34m(self, X, y, sample_weight)\u001b[0m\n\u001b[1;32m   1506\u001b[0m             \u001b[0m_dtype\u001b[0m \u001b[0;34m=\u001b[0m \u001b[0;34m[\u001b[0m\u001b[0mnp\u001b[0m\u001b[0;34m.\u001b[0m\u001b[0mfloat64\u001b[0m\u001b[0;34m,\u001b[0m \u001b[0mnp\u001b[0m\u001b[0;34m.\u001b[0m\u001b[0mfloat32\u001b[0m\u001b[0;34m]\u001b[0m\u001b[0;34m\u001b[0m\u001b[0;34m\u001b[0m\u001b[0m\n\u001b[1;32m   1507\u001b[0m \u001b[0;34m\u001b[0m\u001b[0m\n\u001b[0;32m-> 1508\u001b[0;31m         X, y = self._validate_data(\n\u001b[0m\u001b[1;32m   1509\u001b[0m             \u001b[0mX\u001b[0m\u001b[0;34m,\u001b[0m\u001b[0;34m\u001b[0m\u001b[0;34m\u001b[0m\u001b[0m\n\u001b[1;32m   1510\u001b[0m             \u001b[0my\u001b[0m\u001b[0;34m,\u001b[0m\u001b[0;34m\u001b[0m\u001b[0;34m\u001b[0m\u001b[0m\n",
            "\u001b[0;32m/usr/local/lib/python3.8/dist-packages/sklearn/base.py\u001b[0m in \u001b[0;36m_validate_data\u001b[0;34m(self, X, y, reset, validate_separately, **check_params)\u001b[0m\n\u001b[1;32m    579\u001b[0m                 \u001b[0my\u001b[0m \u001b[0;34m=\u001b[0m \u001b[0mcheck_array\u001b[0m\u001b[0;34m(\u001b[0m\u001b[0my\u001b[0m\u001b[0;34m,\u001b[0m \u001b[0;34m**\u001b[0m\u001b[0mcheck_y_params\u001b[0m\u001b[0;34m)\u001b[0m\u001b[0;34m\u001b[0m\u001b[0;34m\u001b[0m\u001b[0m\n\u001b[1;32m    580\u001b[0m             \u001b[0;32melse\u001b[0m\u001b[0;34m:\u001b[0m\u001b[0;34m\u001b[0m\u001b[0;34m\u001b[0m\u001b[0m\n\u001b[0;32m--> 581\u001b[0;31m                 \u001b[0mX\u001b[0m\u001b[0;34m,\u001b[0m \u001b[0my\u001b[0m \u001b[0;34m=\u001b[0m \u001b[0mcheck_X_y\u001b[0m\u001b[0;34m(\u001b[0m\u001b[0mX\u001b[0m\u001b[0;34m,\u001b[0m \u001b[0my\u001b[0m\u001b[0;34m,\u001b[0m \u001b[0;34m**\u001b[0m\u001b[0mcheck_params\u001b[0m\u001b[0;34m)\u001b[0m\u001b[0;34m\u001b[0m\u001b[0;34m\u001b[0m\u001b[0m\n\u001b[0m\u001b[1;32m    582\u001b[0m             \u001b[0mout\u001b[0m \u001b[0;34m=\u001b[0m \u001b[0mX\u001b[0m\u001b[0;34m,\u001b[0m \u001b[0my\u001b[0m\u001b[0;34m\u001b[0m\u001b[0;34m\u001b[0m\u001b[0m\n\u001b[1;32m    583\u001b[0m \u001b[0;34m\u001b[0m\u001b[0m\n",
            "\u001b[0;32m/usr/local/lib/python3.8/dist-packages/sklearn/utils/validation.py\u001b[0m in \u001b[0;36mcheck_X_y\u001b[0;34m(X, y, accept_sparse, accept_large_sparse, dtype, order, copy, force_all_finite, ensure_2d, allow_nd, multi_output, ensure_min_samples, ensure_min_features, y_numeric, estimator)\u001b[0m\n\u001b[1;32m    962\u001b[0m         \u001b[0;32mraise\u001b[0m \u001b[0mValueError\u001b[0m\u001b[0;34m(\u001b[0m\u001b[0;34m\"y cannot be None\"\u001b[0m\u001b[0;34m)\u001b[0m\u001b[0;34m\u001b[0m\u001b[0;34m\u001b[0m\u001b[0m\n\u001b[1;32m    963\u001b[0m \u001b[0;34m\u001b[0m\u001b[0m\n\u001b[0;32m--> 964\u001b[0;31m     X = check_array(\n\u001b[0m\u001b[1;32m    965\u001b[0m         \u001b[0mX\u001b[0m\u001b[0;34m,\u001b[0m\u001b[0;34m\u001b[0m\u001b[0;34m\u001b[0m\u001b[0m\n\u001b[1;32m    966\u001b[0m         \u001b[0maccept_sparse\u001b[0m\u001b[0;34m=\u001b[0m\u001b[0maccept_sparse\u001b[0m\u001b[0;34m,\u001b[0m\u001b[0;34m\u001b[0m\u001b[0;34m\u001b[0m\u001b[0m\n",
            "\u001b[0;32m/usr/local/lib/python3.8/dist-packages/sklearn/utils/validation.py\u001b[0m in \u001b[0;36mcheck_array\u001b[0;34m(array, accept_sparse, accept_large_sparse, dtype, order, copy, force_all_finite, ensure_2d, allow_nd, ensure_min_samples, ensure_min_features, estimator)\u001b[0m\n\u001b[1;32m    744\u001b[0m                     \u001b[0marray\u001b[0m \u001b[0;34m=\u001b[0m \u001b[0marray\u001b[0m\u001b[0;34m.\u001b[0m\u001b[0mastype\u001b[0m\u001b[0;34m(\u001b[0m\u001b[0mdtype\u001b[0m\u001b[0;34m,\u001b[0m \u001b[0mcasting\u001b[0m\u001b[0;34m=\u001b[0m\u001b[0;34m\"unsafe\"\u001b[0m\u001b[0;34m,\u001b[0m \u001b[0mcopy\u001b[0m\u001b[0;34m=\u001b[0m\u001b[0;32mFalse\u001b[0m\u001b[0;34m)\u001b[0m\u001b[0;34m\u001b[0m\u001b[0;34m\u001b[0m\u001b[0m\n\u001b[1;32m    745\u001b[0m                 \u001b[0;32melse\u001b[0m\u001b[0;34m:\u001b[0m\u001b[0;34m\u001b[0m\u001b[0;34m\u001b[0m\u001b[0m\n\u001b[0;32m--> 746\u001b[0;31m                     \u001b[0marray\u001b[0m \u001b[0;34m=\u001b[0m \u001b[0mnp\u001b[0m\u001b[0;34m.\u001b[0m\u001b[0masarray\u001b[0m\u001b[0;34m(\u001b[0m\u001b[0marray\u001b[0m\u001b[0;34m,\u001b[0m \u001b[0morder\u001b[0m\u001b[0;34m=\u001b[0m\u001b[0morder\u001b[0m\u001b[0;34m,\u001b[0m \u001b[0mdtype\u001b[0m\u001b[0;34m=\u001b[0m\u001b[0mdtype\u001b[0m\u001b[0;34m)\u001b[0m\u001b[0;34m\u001b[0m\u001b[0;34m\u001b[0m\u001b[0m\n\u001b[0m\u001b[1;32m    747\u001b[0m             \u001b[0;32mexcept\u001b[0m \u001b[0mComplexWarning\u001b[0m \u001b[0;32mas\u001b[0m \u001b[0mcomplex_warning\u001b[0m\u001b[0;34m:\u001b[0m\u001b[0;34m\u001b[0m\u001b[0;34m\u001b[0m\u001b[0m\n\u001b[1;32m    748\u001b[0m                 raise ValueError(\n",
            "\u001b[0;31mValueError\u001b[0m: could not convert string to float: 'My daughter says this is the very best hot chocolate she has ever had! And I love it because no more spilled envelope messes!'"
          ]
        }
      ]
    },
    {
      "cell_type": "code",
      "source": [],
      "metadata": {
        "id": "_oYtEyL6N-I7"
      },
      "id": "_oYtEyL6N-I7",
      "execution_count": null,
      "outputs": []
    }
  ],
  "metadata": {
    "kernelspec": {
      "display_name": "Python 3",
      "language": "python",
      "name": "python3"
    },
    "language_info": {
      "codemirror_mode": {
        "name": "ipython",
        "version": 3
      },
      "file_extension": ".py",
      "mimetype": "text/x-python",
      "name": "python",
      "nbconvert_exporter": "python",
      "pygments_lexer": "ipython3",
      "version": "3.7.12"
    },
    "papermill": {
      "default_parameters": {},
      "duration": 45.924615,
      "end_time": "2022-11-24T10:30:15.653436",
      "environment_variables": {},
      "exception": null,
      "input_path": "__notebook__.ipynb",
      "output_path": "__notebook__.ipynb",
      "parameters": {},
      "start_time": "2022-11-24T10:29:29.728821",
      "version": "2.3.4"
    },
    "colab": {
      "provenance": [],
      "include_colab_link": true
    }
  },
  "nbformat": 4,
  "nbformat_minor": 5
}